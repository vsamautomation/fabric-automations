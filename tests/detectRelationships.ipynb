{
 "cells": [
  {
   "cell_type": "code",
   "execution_count": null,
   "id": "a3fc9f98",
   "metadata": {},
   "outputs": [],
   "source": [
    "import pandas as pd\n",
    "import sempy.fabric as fabric"
   ]
  },
  {
   "cell_type": "code",
   "execution_count": null,
   "id": "d1147d8a",
   "metadata": {},
   "outputs": [],
   "source": [
    "WORKSPACE = \"Test Workspace\"\n",
    "DATASET = \"New Waziri Dashboard Report\"\n",
    "\n",
    "relationships_df = fabric.list_relationships(\n",
    "    workspace = WORKSPACE,\n",
    "    dataset = DATASET,\n",
    "    extended=True\n",
    ")\n",
    "\n",
    "display(relationships_df)"
   ]
  }
 ],
 "metadata": {
  "language_info": {
   "name": "python"
  }
 },
 "nbformat": 4,
 "nbformat_minor": 5
}
