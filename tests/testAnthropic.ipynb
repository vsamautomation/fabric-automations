{
 "cells": [
  {
   "cell_type": "code",
   "execution_count": 1,
   "id": "485d485f",
   "metadata": {},
   "outputs": [],
   "source": [
    "import anthropic"
   ]
  },
  {
   "cell_type": "code",
   "execution_count": 2,
   "id": "126db1f1",
   "metadata": {},
   "outputs": [],
   "source": [
    "api_key = \"your-claude-api-key-here\"\n",
    "client = anthropic.Anthropic(api_key=api_key)"
   ]
  },
  {
   "cell_type": "code",
   "execution_count": 3,
   "id": "5e2a8d60",
   "metadata": {},
   "outputs": [],
   "source": [
    "message = client.messages.create(\n",
    "    model=\"claude-haiku-4-5\",\n",
    "    max_tokens=1024,\n",
    "    messages=[\n",
    "        {\"role\": \"user\", \"content\": \"Hello, how can you assist me today?\"}\n",
    "    ]   \n",
    ")"
   ]
  },
  {
   "cell_type": "code",
   "execution_count": 5,
   "id": "2abb2b55",
   "metadata": {},
   "outputs": [
    {
     "data": {
      "text/plain": [
       "[TextBlock(citations=None, text=\"Hello! I can help you with a wide variety of things:\\n\\n- **Answering questions** on almost any topic (science, history, culture, etc.)\\n- **Writing and editing** – essays, emails, creative content, code, etc.\\n- **Analysis and research** – summarizing information, explaining complex topics\\n- **Problem-solving** – brainstorming, math, logic puzzles\\n- **Learning** – explaining concepts, tutoring, study tips\\n- **Creative projects** – stories, ideas, worldbuilding\\n- **General advice** – though I can't replace professional experts\\n\\nWhat would you like to work on today?\", type='text')]"
      ]
     },
     "execution_count": 5,
     "metadata": {},
     "output_type": "execute_result"
    }
   ],
   "source": [
    "message.content"
   ]
  },
  {
   "cell_type": "code",
   "execution_count": 4,
   "id": "1b36bbbf",
   "metadata": {},
   "outputs": [],
   "source": [
    "test_api = \"your-gemini-api-key-here\""
   ]
  },
  {
   "cell_type": "code",
   "execution_count": 5,
   "id": "97c0cd2d",
   "metadata": {},
   "outputs": [
    {
     "name": "stdout",
     "output_type": "stream",
     "text": [
      "AI learns patterns from data to make intelligent decisions or predictions.\n"
     ]
    }
   ],
   "source": [
    "from google import genai\n",
    "\n",
    "# The client gets the API key from the environment variable `GEMINI_API_KEY`.\n",
    "client = genai.Client(api_key=test_api)\n",
    "\n",
    "response = client.models.generate_content(\n",
    "    model=\"gemini-2.5-flash\", contents=\"Explain how AI works in a few words\"\n",
    ")\n",
    "print(response.text)"
   ]
  }
 ],
 "metadata": {
  "kernelspec": {
   "display_name": "Python 3",
   "language": "python",
   "name": "python3"
  },
  "language_info": {
   "codemirror_mode": {
    "name": "ipython",
    "version": 3
   },
   "file_extension": ".py",
   "mimetype": "text/x-python",
   "name": "python",
   "nbconvert_exporter": "python",
   "pygments_lexer": "ipython3",
   "version": "3.13.3"
  }
 },
 "nbformat": 4,
 "nbformat_minor": 5
}
