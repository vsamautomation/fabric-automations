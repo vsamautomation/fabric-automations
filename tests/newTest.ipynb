{
 "cells": [
  {
   "cell_type": "code",
   "execution_count": 16,
   "id": "10f79934",
   "metadata": {},
   "outputs": [],
   "source": [
    "from pyadomd import Pyadomd\n",
    "import pandas as pd\n",
    "from sys import path\n",
    "path.append(r\"C:\\Program Files\\Microsoft.NET\\ADOMD.NET\\130\")\n",
    "\n",
    "\n"
   ]
  },
  {
   "cell_type": "code",
   "execution_count": 18,
   "id": "de199806",
   "metadata": {},
   "outputs": [
    {
     "ename": "NameError",
     "evalue": "name 'AdomdConnection' is not defined",
     "output_type": "error",
     "traceback": [
      "\u001b[31m---------------------------------------------------------------------------\u001b[39m",
      "\u001b[31mNameError\u001b[39m                                 Traceback (most recent call last)",
      "\u001b[36mCell\u001b[39m\u001b[36m \u001b[39m\u001b[32mIn[18]\u001b[39m\u001b[32m, line 10\u001b[39m\n\u001b[32m      6\u001b[39m query = \u001b[33m\"\u001b[39m\u001b[33mSELECT * FROM $SYSTEM.TMSCHEMA_RELATIONSHIPS\u001b[39m\u001b[33m\"\u001b[39m\n\u001b[32m      8\u001b[39m conn_str = \u001b[33mf\u001b[39m\u001b[33m\"\u001b[39m\u001b[33mData Source=\u001b[39m\u001b[38;5;132;01m{\u001b[39;00mworkspace_connection\u001b[38;5;132;01m}\u001b[39;00m\u001b[33m;Initial Catalog=\u001b[39m\u001b[38;5;132;01m{\u001b[39;00mdataset_name\u001b[38;5;132;01m}\u001b[39;00m\u001b[33m\"\u001b[39m\n\u001b[32m---> \u001b[39m\u001b[32m10\u001b[39m \u001b[38;5;28;01mwith\u001b[39;00m \u001b[43mPyadomd\u001b[49m\u001b[43m(\u001b[49m\u001b[43mconn_str\u001b[49m\u001b[43m)\u001b[49m \u001b[38;5;28;01mas\u001b[39;00m conn:\n\u001b[32m     11\u001b[39m     \u001b[38;5;28;01mwith\u001b[39;00m conn.cursor() \u001b[38;5;28;01mas\u001b[39;00m cur:\n\u001b[32m     12\u001b[39m         cur.execute(query)\n",
      "\u001b[36mFile \u001b[39m\u001b[32m~\\AppData\\Roaming\\Python\\Python313\\site-packages\\pyadomd\\pyadomd.py:127\u001b[39m, in \u001b[36mPyadomd.__init__\u001b[39m\u001b[34m(self, conn_str)\u001b[39m\n\u001b[32m    126\u001b[39m \u001b[38;5;28;01mdef\u001b[39;00m\u001b[38;5;250m \u001b[39m\u001b[34m__init__\u001b[39m(\u001b[38;5;28mself\u001b[39m, conn_str:\u001b[38;5;28mstr\u001b[39m):\n\u001b[32m--> \u001b[39m\u001b[32m127\u001b[39m     \u001b[38;5;28mself\u001b[39m.conn = \u001b[43mAdomdConnection\u001b[49m()\n\u001b[32m    128\u001b[39m     \u001b[38;5;28mself\u001b[39m.conn.ConnectionString = conn_str\n",
      "\u001b[31mNameError\u001b[39m: name 'AdomdConnection' is not defined"
     ]
    }
   ],
   "source": [
    "# Connect to Fabric workspace\n",
    "workspace_connection = \"powerbi://api.powerbi.com/v1.0/myorg/Test%20Workspace\"\n",
    "dataset_name = \"New Waziri Dashboard Report\"\n",
    "\n",
    "# DMV query to list relationships\n",
    "query = \"SELECT * FROM $SYSTEM.TMSCHEMA_RELATIONSHIPS\"\n",
    "\n",
    "conn_str = f\"Data Source={workspace_connection};Initial Catalog={dataset_name}\"\n",
    "\n",
    "with Pyadomd(conn_str) as conn:\n",
    "    with conn.cursor() as cur:\n",
    "        cur.execute(query)\n",
    "        cols = [col[0] for col in cur.description]\n",
    "        rows = cur.fetchall()\n",
    "\n",
    "relationships_df = pd.DataFrame(rows, columns=cols)\n",
    "relationships_df.head()"
   ]
  }
 ],
 "metadata": {
  "kernelspec": {
   "display_name": "Python 3",
   "language": "python",
   "name": "python3"
  },
  "language_info": {
   "codemirror_mode": {
    "name": "ipython",
    "version": 3
   },
   "file_extension": ".py",
   "mimetype": "text/x-python",
   "name": "python",
   "nbconvert_exporter": "python",
   "pygments_lexer": "ipython3",
   "version": "3.13.7"
  }
 },
 "nbformat": 4,
 "nbformat_minor": 5
}
