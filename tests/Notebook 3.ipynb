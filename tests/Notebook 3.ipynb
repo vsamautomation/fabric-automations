{
 "cells": [
  {
   "cell_type": "markdown",
   "id": "overview-section",
   "metadata": {
    "microsoft": {
     "language": "python",
     "language_group": "synapse_pyspark"
    },
    "nteract": {
     "transient": {
      "deleting": false
     }
    }
   },
   "source": [
    "# Fabric Model Analysis & Optimization Toolkit\n",
    "\n",
    "## Overview\n",
    "This notebook provides comprehensive functions for analyzing semantic models to identify unused objects (measures, columns, and tables) that can be removed to optimize model performance and reduce complexity.\n",
    "\n",
    "## Key Features\n",
    "- **Unused Measures Detection**: Identifies measures not referenced in calculations or reports\n",
    "- **Unused Columns Detection**: Finds columns not used in calculations or visualizations\n",
    "- **Unused Tables Detection**: Locates tables with no references in the model\n",
    "- **Relationship Analysis**: Examines table relationships for optimization opportunities\n",
    "\n",
    "## Required Libraries\n",
    "- `SemPy` which is part of the `semantic-link` feature with Core Fabric semantic model operations\n",
    "\n",
    "---"
   ]
  },
  {
   "cell_type": "markdown",
   "id": "installation-section",
   "metadata": {
    "microsoft": {
     "language": "python",
     "language_group": "synapse_pyspark"
    },
    "nteract": {
     "transient": {
      "deleting": false
     }
    }
   },
   "source": [
    "## Installation & Dependencies\n",
    "\n",
    "Install the required semantic-link-labs package for extended Fabric analytics capabilities."
   ]
  },
  {
   "cell_type": "code",
   "execution_count": 1,
   "id": "7a326b4d-eec9-4f1c-8dd5-a182b3ff5202",
   "metadata": {
    "jupyter": {
     "outputs_hidden": true
    },
    "microsoft": {
     "language": "python",
     "language_group": "synapse_pyspark"
    }
   },
   "outputs": [
    {
     "data": {
      "application/vnd.livy.statement-meta+json": {
       "execution_finish_time": "2025-10-13T14:41:37.576849Z",
       "execution_start_time": "2025-10-13T14:41:11.2269803Z",
       "livy_statement_state": "available",
       "normalized_state": "finished",
       "parent_msg_id": "2b8bf804-a919-4120-a61f-d5c833f36693",
       "queued_time": "2025-10-13T14:40:58.9458203Z",
       "session_id": "58f2a5b9-4033-4bdf-bd03-8a202fd7a88c",
       "session_start_time": "2025-10-13T14:40:58.9467426Z",
       "spark_pool": null,
       "state": "finished",
       "statement_id": 3,
       "statement_ids": [
        3
       ]
      },
      "text/plain": [
       "StatementMeta(, 58f2a5b9-4033-4bdf-bd03-8a202fd7a88c, 3, Finished, Available, Finished)"
      ]
     },
     "metadata": {},
     "output_type": "display_data"
    },
    {
     "name": "stdout",
     "output_type": "stream",
     "text": [
      "Collecting semantic-link-labs\n",
      "  Downloading semantic_link_labs-0.12.3-py3-none-any.whl.metadata (27 kB)\n",
      "Collecting semantic-link-sempy>=0.12.0 (from semantic-link-labs)\n",
      "  Downloading semantic_link_sempy-0.12.1-py3-none-any.whl.metadata (11 kB)\n",
      "Collecting anytree (from semantic-link-labs)\n",
      "  Downloading anytree-2.13.0-py3-none-any.whl.metadata (8.0 kB)\n",
      "Collecting polib (from semantic-link-labs)\n",
      "  Downloading polib-1.2.0-py2.py3-none-any.whl.metadata (15 kB)\n",
      "Collecting jsonpath_ng (from semantic-link-labs)\n",
      "  Downloading jsonpath_ng-1.7.0-py3-none-any.whl.metadata (18 kB)\n",
      "Requirement already satisfied: clr-loader>=0.2.5 in /home/trusted-service-user/cluster-env/trident_env/lib/python3.11/site-packages (from semantic-link-sempy>=0.12.0->semantic-link-labs) (0.2.5)\n",
      "Collecting fabric-analytics-sdk==0.0.1 (from fabric-analytics-sdk[online-notebook]==0.0.1->semantic-link-sempy>=0.12.0->semantic-link-labs)\n",
      "  Downloading fabric_analytics_sdk-0.0.1-py3-none-any.whl.metadata (14 kB)\n",
      "Requirement already satisfied: graphviz>=0.20.1 in /home/trusted-service-user/cluster-env/trident_env/lib/python3.11/site-packages (from semantic-link-sempy>=0.12.0->semantic-link-labs) (0.20.1)\n",
      "Collecting azure-keyvault-secrets>=4.7.0 (from semantic-link-sempy>=0.12.0->semantic-link-labs)\n",
      "  Downloading azure_keyvault_secrets-4.10.0-py3-none-any.whl.metadata (18 kB)\n",
      "Requirement already satisfied: pyarrow>=12.0.1 in /home/trusted-service-user/cluster-env/trident_env/lib/python3.11/site-packages (from semantic-link-sempy>=0.12.0->semantic-link-labs) (14.0.2)\n",
      "Requirement already satisfied: pythonnet>=3.0.1 in /home/trusted-service-user/cluster-env/trident_env/lib/python3.11/site-packages (from semantic-link-sempy>=0.12.0->semantic-link-labs) (3.0.1)\n",
      "Requirement already satisfied: scikit-learn>=1.2.2 in /home/trusted-service-user/cluster-env/trident_env/lib/python3.11/site-packages (from semantic-link-sempy>=0.12.0->semantic-link-labs) (1.2.2)\n",
      "Requirement already satisfied: setuptools>=68.2.2 in /home/trusted-service-user/cluster-env/trident_env/lib/python3.11/site-packages (from semantic-link-sempy>=0.12.0->semantic-link-labs) (68.2.2)\n",
      "Requirement already satisfied: tqdm>=4.65.0 in /home/trusted-service-user/cluster-env/trident_env/lib/python3.11/site-packages (from semantic-link-sempy>=0.12.0->semantic-link-labs) (4.65.0)\n",
      "Requirement already satisfied: rich>=13.3.5 in /home/trusted-service-user/cluster-env/trident_env/lib/python3.11/site-packages (from semantic-link-sempy>=0.12.0->semantic-link-labs) (13.3.5)\n",
      "Requirement already satisfied: regex>=2023.8.8 in /home/trusted-service-user/cluster-env/trident_env/lib/python3.11/site-packages (from semantic-link-sempy>=0.12.0->semantic-link-labs) (2023.10.3)\n",
      "Requirement already satisfied: pandas>=1.5.3 in /home/trusted-service-user/cluster-env/trident_env/lib/python3.11/site-packages (from semantic-link-sempy>=0.12.0->semantic-link-labs) (2.1.4)\n",
      "Requirement already satisfied: pyspark>=3.4.1 in /home/trusted-service-user/cluster-env/trident_env/lib/python3.11/site-packages (from semantic-link-sempy>=0.12.0->semantic-link-labs) (3.5.1.5.4.20240407)\n",
      "Requirement already satisfied: requests>=2.31.0 in /home/trusted-service-user/cluster-env/trident_env/lib/python3.11/site-packages (from semantic-link-sempy>=0.12.0->semantic-link-labs) (2.31.0)\n",
      "Requirement already satisfied: aiohttp>=3.8.6 in /home/trusted-service-user/cluster-env/trident_env/lib/python3.11/site-packages (from semantic-link-sempy>=0.12.0->semantic-link-labs) (3.9.3)\n",
      "Requirement already satisfied: IPython>=8.14.0 in /home/trusted-service-user/cluster-env/trident_env/lib/python3.11/site-packages (from semantic-link-sempy>=0.12.0->semantic-link-labs) (8.20.0)\n",
      "Requirement already satisfied: tenacity>=8.2.3 in /home/trusted-service-user/cluster-env/trident_env/lib/python3.11/site-packages (from semantic-link-sempy>=0.12.0->semantic-link-labs) (8.2.3)\n",
      "Requirement already satisfied: azure-core in /home/trusted-service-user/cluster-env/trident_env/lib/python3.11/site-packages (from fabric-analytics-sdk==0.0.1->fabric-analytics-sdk[online-notebook]==0.0.1->semantic-link-sempy>=0.12.0->semantic-link-labs) (1.30.2)\n",
      "Requirement already satisfied: azure-identity in /home/trusted-service-user/cluster-env/trident_env/lib/python3.11/site-packages (from fabric-analytics-sdk==0.0.1->fabric-analytics-sdk[online-notebook]==0.0.1->semantic-link-sempy>=0.12.0->semantic-link-labs) (1.15.0)\n",
      "Collecting fabric-analytics-notebook-plugin (from fabric-analytics-sdk[online-notebook]==0.0.1->semantic-link-sempy>=0.12.0->semantic-link-labs)\n",
      "  Downloading fabric_analytics_notebook_plugin-0.0.1-py3-none-any.whl.metadata (13 kB)\n",
      "Requirement already satisfied: ply in /home/trusted-service-user/cluster-env/trident_env/lib/python3.11/site-packages (from jsonpath_ng->semantic-link-labs) (3.11)\n",
      "Requirement already satisfied: aiosignal>=1.1.2 in /home/trusted-service-user/cluster-env/trident_env/lib/python3.11/site-packages (from aiohttp>=3.8.6->semantic-link-sempy>=0.12.0->semantic-link-labs) (1.2.0)\n",
      "Requirement already satisfied: attrs>=17.3.0 in /home/trusted-service-user/cluster-env/trident_env/lib/python3.11/site-packages (from aiohttp>=3.8.6->semantic-link-sempy>=0.12.0->semantic-link-labs) (23.1.0)\n",
      "Requirement already satisfied: frozenlist>=1.1.1 in /home/trusted-service-user/cluster-env/trident_env/lib/python3.11/site-packages (from aiohttp>=3.8.6->semantic-link-sempy>=0.12.0->semantic-link-labs) (1.4.0)\n",
      "Requirement already satisfied: multidict<7.0,>=4.5 in /home/trusted-service-user/cluster-env/trident_env/lib/python3.11/site-packages (from aiohttp>=3.8.6->semantic-link-sempy>=0.12.0->semantic-link-labs) (6.0.4)\n",
      "Requirement already satisfied: yarl<2.0,>=1.0 in /home/trusted-service-user/cluster-env/trident_env/lib/python3.11/site-packages (from aiohttp>=3.8.6->semantic-link-sempy>=0.12.0->semantic-link-labs) (1.9.3)\n",
      "Requirement already satisfied: isodate>=0.6.1 in /home/trusted-service-user/cluster-env/trident_env/lib/python3.11/site-packages (from azure-keyvault-secrets>=4.7.0->semantic-link-sempy>=0.12.0->semantic-link-labs) (0.6.1)\n",
      "Collecting azure-core (from fabric-analytics-sdk==0.0.1->fabric-analytics-sdk[online-notebook]==0.0.1->semantic-link-sempy>=0.12.0->semantic-link-labs)\n",
      "  Downloading azure_core-1.35.1-py3-none-any.whl.metadata (46 kB)\n",
      "\u001b[2K     \u001b[90m━━━━━━━━━━━━━━━━━━━━━━━━━━━━━━━━━━━━━━━\u001b[0m \u001b[32m46.5/46.5 kB\u001b[0m \u001b[31m771.5 kB/s\u001b[0m eta \u001b[36m0:00:00\u001b[0m:--:--\u001b[0m\n",
      "\u001b[?25hRequirement already satisfied: typing-extensions>=4.6.0 in /home/trusted-service-user/cluster-env/trident_env/lib/python3.11/site-packages (from azure-keyvault-secrets>=4.7.0->semantic-link-sempy>=0.12.0->semantic-link-labs) (4.9.0)\n",
      "Requirement already satisfied: cffi>=1.13 in /home/trusted-service-user/cluster-env/trident_env/lib/python3.11/site-packages (from clr-loader>=0.2.5->semantic-link-sempy>=0.12.0->semantic-link-labs) (1.16.0)\n",
      "Requirement already satisfied: decorator in /home/trusted-service-user/cluster-env/trident_env/lib/python3.11/site-packages (from IPython>=8.14.0->semantic-link-sempy>=0.12.0->semantic-link-labs) (5.1.1)\n",
      "Requirement already satisfied: jedi>=0.16 in /home/trusted-service-user/cluster-env/trident_env/lib/python3.11/site-packages (from IPython>=8.14.0->semantic-link-sempy>=0.12.0->semantic-link-labs) (0.18.1)\n",
      "Requirement already satisfied: matplotlib-inline in /home/trusted-service-user/cluster-env/trident_env/lib/python3.11/site-packages (from IPython>=8.14.0->semantic-link-sempy>=0.12.0->semantic-link-labs) (0.1.6)\n",
      "Requirement already satisfied: prompt-toolkit<3.1.0,>=3.0.41 in /home/trusted-service-user/cluster-env/trident_env/lib/python3.11/site-packages (from IPython>=8.14.0->semantic-link-sempy>=0.12.0->semantic-link-labs) (3.0.43)\n",
      "Requirement already satisfied: pygments>=2.4.0 in /home/trusted-service-user/cluster-env/trident_env/lib/python3.11/site-packages (from IPython>=8.14.0->semantic-link-sempy>=0.12.0->semantic-link-labs) (2.15.1)\n",
      "Requirement already satisfied: stack-data in /home/trusted-service-user/cluster-env/trident_env/lib/python3.11/site-packages (from IPython>=8.14.0->semantic-link-sempy>=0.12.0->semantic-link-labs) (0.2.0)\n",
      "Requirement already satisfied: traitlets>=5 in /home/trusted-service-user/cluster-env/trident_env/lib/python3.11/site-packages (from IPython>=8.14.0->semantic-link-sempy>=0.12.0->semantic-link-labs) (5.7.1)\n",
      "Requirement already satisfied: pexpect>4.3 in /home/trusted-service-user/cluster-env/trident_env/lib/python3.11/site-packages (from IPython>=8.14.0->semantic-link-sempy>=0.12.0->semantic-link-labs) (4.8.0)\n",
      "Requirement already satisfied: numpy<2,>=1.23.2 in /home/trusted-service-user/cluster-env/trident_env/lib/python3.11/site-packages (from pandas>=1.5.3->semantic-link-sempy>=0.12.0->semantic-link-labs) (1.26.4)\n",
      "Requirement already satisfied: python-dateutil>=2.8.2 in /home/trusted-service-user/cluster-env/trident_env/lib/python3.11/site-packages (from pandas>=1.5.3->semantic-link-sempy>=0.12.0->semantic-link-labs) (2.8.2)\n",
      "Requirement already satisfied: pytz>=2020.1 in /home/trusted-service-user/cluster-env/trident_env/lib/python3.11/site-packages (from pandas>=1.5.3->semantic-link-sempy>=0.12.0->semantic-link-labs) (2023.3.post1)\n",
      "Requirement already satisfied: tzdata>=2022.1 in /home/trusted-service-user/cluster-env/trident_env/lib/python3.11/site-packages (from pandas>=1.5.3->semantic-link-sempy>=0.12.0->semantic-link-labs) (2023.3)\n",
      "Requirement already satisfied: py4j==0.10.9.7 in /home/trusted-service-user/cluster-env/trident_env/lib/python3.11/site-packages (from pyspark>=3.4.1->semantic-link-sempy>=0.12.0->semantic-link-labs) (0.10.9.7)\n",
      "Requirement already satisfied: charset-normalizer<4,>=2 in /home/trusted-service-user/cluster-env/trident_env/lib/python3.11/site-packages (from requests>=2.31.0->semantic-link-sempy>=0.12.0->semantic-link-labs) (2.0.4)\n",
      "Requirement already satisfied: idna<4,>=2.5 in /home/trusted-service-user/cluster-env/trident_env/lib/python3.11/site-packages (from requests>=2.31.0->semantic-link-sempy>=0.12.0->semantic-link-labs) (3.4)\n",
      "Requirement already satisfied: urllib3<3,>=1.21.1 in /home/trusted-service-user/cluster-env/trident_env/lib/python3.11/site-packages (from requests>=2.31.0->semantic-link-sempy>=0.12.0->semantic-link-labs) (2.1.0)\n",
      "Requirement already satisfied: certifi>=2017.4.17 in /home/trusted-service-user/cluster-env/trident_env/lib/python3.11/site-packages (from requests>=2.31.0->semantic-link-sempy>=0.12.0->semantic-link-labs) (2024.2.2)\n",
      "Requirement already satisfied: markdown-it-py<3.0.0,>=2.2.0 in /home/trusted-service-user/cluster-env/trident_env/lib/python3.11/site-packages (from rich>=13.3.5->semantic-link-sempy>=0.12.0->semantic-link-labs) (2.2.0)\n",
      "Requirement already satisfied: scipy>=1.3.2 in /home/trusted-service-user/cluster-env/trident_env/lib/python3.11/site-packages (from scikit-learn>=1.2.2->semantic-link-sempy>=0.12.0->semantic-link-labs) (1.11.4)\n",
      "Requirement already satisfied: joblib>=1.1.1 in /home/trusted-service-user/cluster-env/trident_env/lib/python3.11/site-packages (from scikit-learn>=1.2.2->semantic-link-sempy>=0.12.0->semantic-link-labs) (1.2.0)\n",
      "Requirement already satisfied: threadpoolctl>=2.0.0 in /home/trusted-service-user/cluster-env/trident_env/lib/python3.11/site-packages (from scikit-learn>=1.2.2->semantic-link-sempy>=0.12.0->semantic-link-labs) (2.2.0)\n",
      "Requirement already satisfied: six>=1.11.0 in /home/trusted-service-user/cluster-env/trident_env/lib/python3.11/site-packages (from azure-core->fabric-analytics-sdk==0.0.1->fabric-analytics-sdk[online-notebook]==0.0.1->semantic-link-sempy>=0.12.0->semantic-link-labs) (1.16.0)\n",
      "Requirement already satisfied: pycparser in /home/trusted-service-user/cluster-env/trident_env/lib/python3.11/site-packages (from cffi>=1.13->clr-loader>=0.2.5->semantic-link-sempy>=0.12.0->semantic-link-labs) (2.21)\n",
      "Requirement already satisfied: parso<0.9.0,>=0.8.0 in /home/trusted-service-user/cluster-env/trident_env/lib/python3.11/site-packages (from jedi>=0.16->IPython>=8.14.0->semantic-link-sempy>=0.12.0->semantic-link-labs) (0.8.3)\n",
      "Requirement already satisfied: mdurl~=0.1 in /home/trusted-service-user/cluster-env/trident_env/lib/python3.11/site-packages (from markdown-it-py<3.0.0,>=2.2.0->rich>=13.3.5->semantic-link-sempy>=0.12.0->semantic-link-labs) (0.1.0)\n",
      "Requirement already satisfied: ptyprocess>=0.5 in /home/trusted-service-user/cluster-env/trident_env/lib/python3.11/site-packages (from pexpect>4.3->IPython>=8.14.0->semantic-link-sempy>=0.12.0->semantic-link-labs) (0.7.0)\n",
      "Requirement already satisfied: wcwidth in /home/trusted-service-user/cluster-env/trident_env/lib/python3.11/site-packages (from prompt-toolkit<3.1.0,>=3.0.41->IPython>=8.14.0->semantic-link-sempy>=0.12.0->semantic-link-labs) (0.2.5)\n",
      "Requirement already satisfied: cryptography>=2.5 in /home/trusted-service-user/cluster-env/trident_env/lib/python3.11/site-packages (from azure-identity->fabric-analytics-sdk==0.0.1->fabric-analytics-sdk[online-notebook]==0.0.1->semantic-link-sempy>=0.12.0->semantic-link-labs) (42.0.2)\n",
      "Requirement already satisfied: msal<2.0.0,>=1.24.0 in /home/trusted-service-user/cluster-env/trident_env/lib/python3.11/site-packages (from azure-identity->fabric-analytics-sdk==0.0.1->fabric-analytics-sdk[online-notebook]==0.0.1->semantic-link-sempy>=0.12.0->semantic-link-labs) (1.25.0)\n",
      "Requirement already satisfied: msal-extensions<2.0.0,>=0.3.0 in /home/trusted-service-user/cluster-env/trident_env/lib/python3.11/site-packages (from azure-identity->fabric-analytics-sdk==0.0.1->fabric-analytics-sdk[online-notebook]==0.0.1->semantic-link-sempy>=0.12.0->semantic-link-labs) (1.0.0)\n",
      "Requirement already satisfied: psutil in /home/trusted-service-user/cluster-env/trident_env/lib/python3.11/site-packages (from fabric-analytics-notebook-plugin->fabric-analytics-sdk[online-notebook]==0.0.1->semantic-link-sempy>=0.12.0->semantic-link-labs) (5.9.0)\n",
      "Requirement already satisfied: executing in /home/trusted-service-user/cluster-env/trident_env/lib/python3.11/site-packages (from stack-data->IPython>=8.14.0->semantic-link-sempy>=0.12.0->semantic-link-labs) (0.8.3)\n",
      "Requirement already satisfied: asttokens in /home/trusted-service-user/cluster-env/trident_env/lib/python3.11/site-packages (from stack-data->IPython>=8.14.0->semantic-link-sempy>=0.12.0->semantic-link-labs) (2.0.5)\n",
      "Requirement already satisfied: pure-eval in /home/trusted-service-user/cluster-env/trident_env/lib/python3.11/site-packages (from stack-data->IPython>=8.14.0->semantic-link-sempy>=0.12.0->semantic-link-labs) (0.2.2)\n",
      "Requirement already satisfied: PyJWT<3,>=1.0.0 in /home/trusted-service-user/cluster-env/trident_env/lib/python3.11/site-packages (from PyJWT[crypto]<3,>=1.0.0->msal<2.0.0,>=1.24.0->azure-identity->fabric-analytics-sdk==0.0.1->fabric-analytics-sdk[online-notebook]==0.0.1->semantic-link-sempy>=0.12.0->semantic-link-labs) (2.4.0)\n",
      "Requirement already satisfied: portalocker<3,>=1.0 in /home/trusted-service-user/cluster-env/trident_env/lib/python3.11/site-packages (from msal-extensions<2.0.0,>=0.3.0->azure-identity->fabric-analytics-sdk==0.0.1->fabric-analytics-sdk[online-notebook]==0.0.1->semantic-link-sempy>=0.12.0->semantic-link-labs) (2.3.0)\n",
      "Downloading semantic_link_labs-0.12.3-py3-none-any.whl (764 kB)\n",
      "\u001b[2K   \u001b[90m━━━━━━━━━━━━━━━━━━━━━━━━━━━━━━━━━━━━━━━━\u001b[0m \u001b[32m764.7/764.7 kB\u001b[0m \u001b[31m1.4 MB/s\u001b[0m eta \u001b[36m0:00:00\u001b[0ma \u001b[36m0:00:01\u001b[0mm\n",
      "\u001b[?25hDownloading semantic_link_sempy-0.12.1-py3-none-any.whl (3.3 MB)\n",
      "\u001b[2K   \u001b[90m━━━━━━━━━━━━━━━━━━━━━━━━━━━━━━━━━━━━━━━━\u001b[0m \u001b[32m3.3/3.3 MB\u001b[0m \u001b[31m8.5 MB/s\u001b[0m eta \u001b[36m0:00:00\u001b[0m00:01\u001b[0m00:01\u001b[0mm\n",
      "\u001b[?25hDownloading fabric_analytics_sdk-0.0.1-py3-none-any.whl (34 kB)\n",
      "Downloading anytree-2.13.0-py3-none-any.whl (45 kB)\n",
      "\u001b[2K   \u001b[90m━━━━━━━━━━━━━━━━━━━━━━━━━━━━━━━━━━━━━━━━\u001b[0m \u001b[32m45.1/45.1 kB\u001b[0m \u001b[31m16.7 MB/s\u001b[0m eta \u001b[36m0:00:00\u001b[0m\n",
      "\u001b[?25hDownloading jsonpath_ng-1.7.0-py3-none-any.whl (30 kB)\n",
      "Downloading polib-1.2.0-py2.py3-none-any.whl (20 kB)\n",
      "Downloading azure_keyvault_secrets-4.10.0-py3-none-any.whl (125 kB)\n",
      "\u001b[2K   \u001b[90m━━━━━━━━━━━━━━━━━━━━━━━━━━━━━━━━━━━━━━━━\u001b[0m \u001b[32m125.2/125.2 kB\u001b[0m \u001b[31m39.9 MB/s\u001b[0m eta \u001b[36m0:00:00\u001b[0m\n",
      "\u001b[?25hDownloading azure_core-1.35.1-py3-none-any.whl (211 kB)\n",
      "\u001b[2K   \u001b[90m━━━━━━━━━━━━━━━━━━━━━━━━━━━━━━━━━━━━━━━━\u001b[0m \u001b[32m211.8/211.8 kB\u001b[0m \u001b[31m47.2 MB/s\u001b[0m eta \u001b[36m0:00:00\u001b[0m\n",
      "\u001b[?25hDownloading fabric_analytics_notebook_plugin-0.0.1-py3-none-any.whl (20 kB)\n",
      "Installing collected packages: polib, jsonpath_ng, anytree, azure-core, azure-keyvault-secrets, fabric-analytics-sdk, fabric-analytics-notebook-plugin, semantic-link-sempy, semantic-link-labs\n",
      "  Attempting uninstall: azure-core\n",
      "    Found existing installation: azure-core 1.30.2\n",
      "    Uninstalling azure-core-1.30.2:\n",
      "      Successfully uninstalled azure-core-1.30.2\n",
      "  Attempting uninstall: semantic-link-sempy\n",
      "    Found existing installation: semantic-link-sempy 0.11.0\n",
      "    Uninstalling semantic-link-sempy-0.11.0:\n",
      "      Successfully uninstalled semantic-link-sempy-0.11.0\n",
      "\u001b[31mERROR: pip's dependency resolver does not currently take into account all the packages that are installed. This behaviour is the source of the following dependency conflicts.\n",
      "fsspec-wrapper 0.1.15 requires PyJWT>=2.6.0, but you have pyjwt 2.4.0 which is incompatible.\u001b[0m\u001b[31m\n",
      "\u001b[0mSuccessfully installed anytree-2.13.0 azure-core-2024.9.1 azure-keyvault-secrets-4.10.0 fabric-analytics-notebook-plugin-0.0.1 fabric-analytics-sdk-0.0.1 jsonpath_ng-1.7.0 polib-1.2.0 semantic-link-labs-0.12.3 semantic-link-sempy-0.12.1\n"
     ]
    }
   ],
   "source": [
    "# Install semantic-link-labs for extended Fabric analytics\n",
    "!pip install semantic-link-labs"
   ]
  },
  {
   "cell_type": "markdown",
   "id": "imports-section",
   "metadata": {
    "microsoft": {
     "language": "python",
     "language_group": "synapse_pyspark"
    },
    "nteract": {
     "transient": {
      "deleting": false
     }
    }
   },
   "source": [
    "## Library Imports & Configuration\n",
    "\n",
    "Import essential libraries for Fabric model analysis:\n",
    "- **`sempy.fabric`**: Primary interface for Fabric operations\n",
    "- **`sempy_labs.report`**: Report analysis and object extraction\n",
    "- **`pandas`**: Data manipulation framework\n",
    "- **`matplotlib.pyplot`**: Data visualization and charting\n"
   ]
  },
  {
   "cell_type": "code",
   "execution_count": 2,
   "id": "4fde6587-a45b-4017-adbc-d10233eb7d91",
   "metadata": {
    "microsoft": {
     "language": "python",
     "language_group": "synapse_pyspark"
    }
   },
   "outputs": [
    {
     "data": {
      "application/vnd.livy.statement-meta+json": {
       "execution_finish_time": "2025-10-13T14:41:41.2063133Z",
       "execution_start_time": "2025-10-13T14:41:37.578906Z",
       "livy_statement_state": "available",
       "normalized_state": "finished",
       "parent_msg_id": "d083b07c-7bd5-447d-bc42-c1196a621fde",
       "queued_time": "2025-10-13T14:41:03.4038193Z",
       "session_id": "58f2a5b9-4033-4bdf-bd03-8a202fd7a88c",
       "session_start_time": null,
       "spark_pool": null,
       "state": "finished",
       "statement_id": 4,
       "statement_ids": [
        4
       ]
      },
      "text/plain": [
       "StatementMeta(, 58f2a5b9-4033-4bdf-bd03-8a202fd7a88c, 4, Finished, Available, Finished)"
      ]
     },
     "metadata": {},
     "output_type": "display_data"
    }
   ],
   "source": [
    "# Import core libraries for Fabric model analysis\n",
    "import pandas as pd\n",
    "import matplotlib.pyplot as plt\n",
    "import sempy.fabric as fabric\n",
    "import sempy_labs\n",
    "from sempy_labs.report import ReportWrapper\n",
    "from pyspark.sql import SparkSession, functions as F\n",
    "from pyspark.sql.types import ArrayType, StringType, StructType, LongType, StructField, FloatType\n",
    "from pyspark.sql.functions import col\n",
    "import re\n",
    "from datetime import datetime\n",
    "import time\n",
    "import logging\n",
    "from IPython.display import clear_output\n",
    "from functools import wraps\n",
    "import sys\n",
    "import traceback"
   ]
  },
  {
   "cell_type": "code",
   "execution_count": 3,
   "id": "7641fc7a-cd7f-4190-84ab-6c0836c52f41",
   "metadata": {
    "microsoft": {
     "language": "python",
     "language_group": "synapse_pyspark"
    }
   },
   "outputs": [
    {
     "data": {
      "application/vnd.livy.statement-meta+json": {
       "execution_finish_time": "2025-10-13T14:41:41.5027745Z",
       "execution_start_time": "2025-10-13T14:41:41.2085708Z",
       "livy_statement_state": "available",
       "normalized_state": "finished",
       "parent_msg_id": "77508ded-1fef-480c-af84-5562544551a1",
       "queued_time": "2025-10-13T14:41:06.6213417Z",
       "session_id": "58f2a5b9-4033-4bdf-bd03-8a202fd7a88c",
       "session_start_time": null,
       "spark_pool": null,
       "state": "finished",
       "statement_id": 5,
       "statement_ids": [
        5
       ]
      },
      "text/plain": [
       "StatementMeta(, 58f2a5b9-4033-4bdf-bd03-8a202fd7a88c, 5, Finished, Available, Finished)"
      ]
     },
     "metadata": {},
     "output_type": "display_data"
    }
   ],
   "source": [
    "spark = SparkSession.builder.getOrCreate()\n",
    "logging.basicConfig(\n",
    "    level=logging.WARNING,\n",
    "    format='%(asctime)s - %(levelname)s - %(message)s',\n",
    "    handlers=[\n",
    "        logging.FileHandler('fabric_scanning.log', mode='w'),\n",
    "        logging.StreamHandler(sys.stdout)\n",
    "    ]\n",
    ")\n",
    "logger = logging.getLogger(__name__)"
   ]
  },
  {
   "cell_type": "code",
   "execution_count": 4,
   "id": "1821e1c3-9adb-46c2-a2ad-d1b081a9475c",
   "metadata": {
    "microsoft": {
     "language": "python",
     "language_group": "synapse_pyspark"
    }
   },
   "outputs": [
    {
     "data": {
      "application/vnd.livy.statement-meta+json": {
       "execution_finish_time": "2025-10-13T14:41:41.9542804Z",
       "execution_start_time": "2025-10-13T14:41:41.5051399Z",
       "livy_statement_state": "available",
       "normalized_state": "finished",
       "parent_msg_id": "b611ed11-b3a0-4642-9ab5-ebb950b3f696",
       "queued_time": "2025-10-13T14:41:09.0682029Z",
       "session_id": "58f2a5b9-4033-4bdf-bd03-8a202fd7a88c",
       "session_start_time": null,
       "spark_pool": null,
       "state": "finished",
       "statement_id": 6,
       "statement_ids": [
        6
       ]
      },
      "text/plain": [
       "StatementMeta(, 58f2a5b9-4033-4bdf-bd03-8a202fd7a88c, 6, Finished, Available, Finished)"
      ]
     },
     "metadata": {},
     "output_type": "display_data"
    }
   ],
   "source": [
    "_cell_name = \"MONITOR\"\n",
    "from typing_extensions import runtime\n",
    "\n",
    "class NewTracker():\n",
    "    def __init__(self):\n",
    "        self.error_count = 0\n",
    "        self.last_error = None\n",
    "        self.stats = {\n",
    "            'start_time': datetime.now(),\n",
    "            'last_update': 0,\n",
    "\n",
    "            #ALL TOTAL COUNTERS\n",
    "            'total_workspaces': 0,\n",
    "            'total_datasets': 0,\n",
    "            'total_reports': 0,\n",
    "            'total_dataflows': 0,\n",
    "            'total_measures': 0,\n",
    "            'total_tables': 0,\n",
    "            'total_columns': 0,\n",
    "            'total_relationships': 0,\n",
    "\n",
    "            #TRACKING TOTAL COUNTERS\n",
    "                #workspace\n",
    "                'workspace_datasets': 0,\n",
    "                'workspace_reports': 0,\n",
    "                'workspace_dataflows':0,\n",
    "\n",
    "                #dataset\n",
    "                'dataset_tables': 0,\n",
    "                'dataset_measures': 0,\n",
    "                'dataset_relationships': 0,\n",
    "                'dataset_columns':0,\n",
    "\n",
    "            #PROGRESS COUNTERS\n",
    "            'processed_workspaces': 0,\n",
    "            'processed_datasets': 0,\n",
    "            'processed_tables': 0,\n",
    "\n",
    "            'ws_processed_datasets': 0,\n",
    "\n",
    "            #STAGES\n",
    "            'processing_stage':'',\n",
    "            'current_operation':'',\n",
    "            'current_object':{},\n",
    "            'current_workspace':'',\n",
    "            'current_dataset':'',\n",
    "            'current_table':'',\n",
    "\n",
    "            #ERRORS\n",
    "            'skipped_objects':{},\n",
    "            'errors':[],\n",
    "            'error_types': {},\n",
    "\n",
    "            #SUCCESS/FAILURE COUNTERS\n",
    "            'success_count':0,\n",
    "            'failure_count':0,\n",
    "            'skipped_count':0,\n",
    "\n",
    "        }\n",
    "        self.spinner_frames = ['⠋', '⠙', '⠹', '⠸', '⠼', '⠴', '⠦', '⠧', '⠇', '⠏']\n",
    "        self.spinner_idx = 0\n",
    "        self.progress_frames = ['▁', '▂', '▃', '▄', '▅', '▆', '▇', '█']\n",
    "        self.progress_idx = 0\n",
    "        self.last_update = 0\n",
    "\n",
    "    def log_error(self, message:str , error: Exception = None):\n",
    "        self.error_count += 1\n",
    "        error_details = {\n",
    "            'timestamp': datetime.now().isoformat(),\n",
    "            'message': message,\n",
    "            'error_type': type(error).__name__ if error else 'Unknown',\n",
    "            'error_details': str(error) if error else 'No details',\n",
    "            'current_object': self.stats['current_object'].get('object_name'),\n",
    "            'object_type': self.stats['current_object'].get('object_type')\n",
    "            \n",
    "        }\n",
    "\n",
    "        self.stats['errors'].append(error_details)\n",
    "        logger.error(f\"{message}: {str(error) if error else 'No details'}\")\n",
    "        self.last_error = error_details\n",
    "\n",
    "    def track_workspace(self, workspace: str, error: str = None):\n",
    "\n",
    "        self.stats['total_workspaces'] += 1\n",
    "\n",
    "        if error:\n",
    "            error_type = type(error).__name__ if isinstance(error, Exception) else 'Unknown'\n",
    "            self.stats['error_types'][error_type] = self.stats['error_types'].get(error_type, 0) + 1\n",
    "    \n",
    "    def track_dataset(self, dataset: str, error: str = None):\n",
    "        \n",
    "        self.stats['total_datasets'] += 1\n",
    "\n",
    "        if error:\n",
    "            error_type = type(error).__name__ if isinstance(error, Exception) else 'Unknown'\n",
    "            self.stats['error_types'][error_type] = self.stats['error_types'].get(error_type, 0) + 1\n",
    "\n",
    "    \n",
    "    \n",
    "    def show_progress(self):\n",
    "        clear_output(wait=True)\n",
    "        runtime = datetime.now() - self.stats['start_time']\n",
    "        workspaces_progress = self.stats['processed_workspaces']\n",
    "        total_workspaces = self.stats['total_workspaces']\n",
    "\n",
    "        if total_workspaces > 0:\n",
    "            ws_percent = workspaces_progress / total_workspaces\n",
    "        else:\n",
    "            ws_percent = 0\n",
    "        \n",
    "        ws_bar = '█' * int(ws_percent * 50) + '-' * (50 - int(ws_percent * 50))\n",
    "\n",
    "        dataset_progress = self.stats['processed_datasets']\n",
    "        total_datasets = self.stats['total_datasets']\n",
    "\n",
    "\n",
    "        if total_datasets > 0:\n",
    "            ds_percent = dataset_progress / total_datasets\n",
    "        else:\n",
    "            ds_percent = 0\n",
    "\n",
    "        ds_bar1 = '█' * int(ds_percent * 50) + '-' * (50 - int(ds_percent * 50))\n",
    "\n",
    "        ws_dataset_progress = self.stats['processed_datasets']   \n",
    "        ws_total_datasets = self.stats['workspace_datasets']\n",
    "\n",
    "        if ws_total_datasets > 0:\n",
    "            ws_ds_percent = ws_dataset_progress / ws_total_datasets\n",
    "        else:\n",
    "            ws_ds_percent = 0\n",
    "\n",
    "        ds_bar2 = '█' * int(ws_ds_percent * 50) + '-' * (50 - int(ws_ds_percent * 50))\n",
    "\n",
    "        total_reports = self.stats['total_reports']\n",
    "        total_dataflows = self.stats['total_dataflows']\n",
    "        total_tables = self.stats['total_tables']\n",
    "        total_relationships = self.stats['total_relationships']\n",
    "        total_measures = self.stats['total_measures']\n",
    "        total_columns = self.stats['total_columns']\n",
    "\n",
    "        ds_total_tables = self.stats['dataset_tables']\n",
    "        ds_total_relationships = self.stats['dataset_relationships']\n",
    "        ds_total_measures = self.stats['dataset_measures']\n",
    "        ds_total_columns = self.stats['dataset_columns']\n",
    "        \n",
    "        #Update animation indices\n",
    "        self.spinner_idx = (self.spinner_idx + 1) % len(self.spinner_frames)\n",
    "        blink_cursor = '█' if int(time.time() * 2) % 2 == 0 else ' '\n",
    "\n",
    "        status = [\n",
    "            '╔════════════════ Scan Status ════════════════╗',\n",
    "            f\"║Runtime: {str(runtime).split('.')[0]}\",\n",
    "            f\"║Processing Stage: {self.stats['processing_stage']}\",\n",
    "            f\"║Current Operation: {self.stats['current_operation']}\",\n",
    "            '',\n",
    "            f\"Scan Progress: {self.spinner_frames[self.spinner_idx]} 🔄\",\n",
    "            f\"║Processing Workspace: {workspaces_progress}/{total_workspaces} {self.stats['current_workspace']}\",\n",
    "            f\"╢{ws_bar}╟ {ws_percent*100:.0f}%\",\n",
    "            f\"{self.stats['current_workspace']} Workspace Objects\",\n",
    "            f\"║Reports: {self.stats['workspace_reports']} | Dataflows: {self.stats['workspace_dataflows']} | Datasets: {ws_total_datasets}\",\n",
    "            f\"║Processing Dataset: {ws_dataset_progress}/{ws_total_datasets} {self.stats['current_dataset']}\",\n",
    "            f\"╢{ds_bar2}╟ {ws_ds_percent*100:.0f}%\",\n",
    "            \"\",\n",
    "            f\"{self.stats['current_dataset']} Dataset Objects\",\n",
    "            f\"║Measures: {ds_total_measures} | Relationships: {ds_total_relationships} | Tables: {ds_total_tables} | Columns: {ds_total_columns}\",\n",
    "            '',\n",
    "            \"All Objects Summary\",\n",
    "            f\"║Total Workspaces: {total_workspaces} | Total Reports: {total_reports} | Total Datasets: {total_datasets} | Total_Dataflows: {total_dataflows} \",\n",
    "            f\"║Total Measures: {total_measures} | Total Relationships: {total_relationships} | Total Tables: {total_tables}\",\n",
    "            f\"║Total Columns: {total_columns}\",\n",
    "            \"\",\n",
    "        ]\n",
    "        sys.stdout.write('\\n'.join(status))\n",
    "        sys.stdout.flush()\n",
    "        self.last_update = time.time()\n",
    "    \n",
    "    def update(self, **kwargs):\n",
    "            for key, value in kwargs.items():\n",
    "                if key in self.stats:\n",
    "                    self.stats[key] = value\n",
    "                else:\n",
    "                    print(f\"Warning: {key} is not a valid stats key.\")\n",
    "            current_time = time.time()\n",
    "            if current_time - self.last_update >= 1:  # Update display every second\n",
    "                self.show_progress()\n",
    "tracker = NewTracker()\n",
    "def track_function(func):\n",
    "    @wraps(func)\n",
    "    def wrapper(*args, **kwargs):\n",
    "        tracker.stats['current_operation'] = func.__name__\n",
    "        start_time = time.time()\n",
    "        try:\n",
    "            result = func(*args, **kwargs)\n",
    "            return result\n",
    "        except Exception as e:\n",
    "            tracker.log_error(f\"Error in {func.__name__} for {tracker.stats['current_object']['object_name']}\", e)\n",
    "            raise\n",
    "        finally:\n",
    "            duration = time.time() - start_time\n",
    "            logger.debug(f\"{func.__name__} took {duration:.2f} seconds\")\n",
    "            tracker.stats['current_operation'] = None\n",
    "    return wrapper"
   ]
  },
  {
   "cell_type": "code",
   "execution_count": 5,
   "id": "c39bcbc4-759c-4dbb-b95c-922e28a5ce29",
   "metadata": {
    "microsoft": {
     "language": "python",
     "language_group": "synapse_pyspark"
    }
   },
   "outputs": [
    {
     "data": {
      "application/vnd.livy.statement-meta+json": {
       "execution_finish_time": "2025-10-13T14:41:42.2768411Z",
       "execution_start_time": "2025-10-13T14:41:41.9561293Z",
       "livy_statement_state": "available",
       "normalized_state": "finished",
       "parent_msg_id": "9fce6ecd-1402-4bba-8e71-8423f11dda90",
       "queued_time": "2025-10-13T14:41:11.3341225Z",
       "session_id": "58f2a5b9-4033-4bdf-bd03-8a202fd7a88c",
       "session_start_time": null,
       "spark_pool": null,
       "state": "finished",
       "statement_id": 7,
       "statement_ids": [
        7
       ]
      },
      "text/plain": [
       "StatementMeta(, 58f2a5b9-4033-4bdf-bd03-8a202fd7a88c, 7, Finished, Available, Finished)"
      ]
     },
     "metadata": {},
     "output_type": "display_data"
    }
   ],
   "source": [
    "def sanitize_df_columns(df, extra_columns = False, ws_id = None, ds_id = None):\n",
    "    \"\"\"\n",
    "    Replaces spaces in column names with underscore to prevent errors during Spark Dataframe Creation\n",
    "    \"\"\"\n",
    "    df.columns = [\n",
    "        re.sub(r'\\W+',\"_\",col.strip().lower())\n",
    "        for col in df.columns\n",
    "    ]\n",
    "\n",
    "    if extra_columns:\n",
    "        df['workspace_id'] = ws_id\n",
    "        df['dataset_id'] = ds_id\n",
    "        \n",
    "    return df"
   ]
  },
  {
   "cell_type": "code",
   "execution_count": 6,
   "id": "ea7f6399-c6ad-4b9d-85b8-b799dd2d5370",
   "metadata": {
    "microsoft": {
     "language": "python",
     "language_group": "synapse_pyspark"
    }
   },
   "outputs": [
    {
     "data": {
      "application/vnd.livy.statement-meta+json": {
       "execution_finish_time": "2025-10-13T14:41:42.5709496Z",
       "execution_start_time": "2025-10-13T14:41:42.2788179Z",
       "livy_statement_state": "available",
       "normalized_state": "finished",
       "parent_msg_id": "723f0b42-8847-4f52-84e6-7cd319c7855e",
       "queued_time": "2025-10-13T14:41:13.4560218Z",
       "session_id": "58f2a5b9-4033-4bdf-bd03-8a202fd7a88c",
       "session_start_time": null,
       "spark_pool": null,
       "state": "finished",
       "statement_id": 8,
       "statement_ids": [
        8
       ]
      },
      "text/plain": [
       "StatementMeta(, 58f2a5b9-4033-4bdf-bd03-8a202fd7a88c, 8, Finished, Available, Finished)"
      ]
     },
     "metadata": {},
     "output_type": "display_data"
    }
   ],
   "source": [
    "# @title GET FUNCTIONS\n",
    "_cell_name = \"GET FUNCTIONS\"\n",
    "\n",
    "@track_function\n",
    "def get_datasets(ws_id):\n",
    "    \"\"\"\n",
    "    Gets all Datasets from the specified workspace\n",
    "    \"\"\"\n",
    "    datasets = fabric.list_datasets(workspace=ws_id)\n",
    "    \n",
    "    if not datasets.empty:\n",
    "        datasets = sanitize_df_columns(datasets)\n",
    "        datasets['workspace_id'] = ws_id\n",
    "        tracker.stats['total_datasets'] += len(datasets)\n",
    "        return datasets\n",
    "    else:\n",
    "        return []\n",
    "\n",
    "@track_function\n",
    "def get_reports(ws_id):\n",
    "    \"\"\"\n",
    "    Gets all Reports from the specified workspace\n",
    "    \"\"\"\n",
    "    reports = fabric.list_reports(workspace=ws_id)\n",
    "    \n",
    "    if not reports.empty:\n",
    "        reports = sanitize_df_columns(reports)\n",
    "        reports.rename(columns={\n",
    "            \"dataset_workspace_id\": \"workspace_id\",\n",
    "            \"id\": \"report_id\"\n",
    "        }, inplace=True)\n",
    "\n",
    "        tracker.stats['total_reports'] += len(reports)\n",
    "        return reports\n",
    "    else:\n",
    "        return []\n",
    "\n",
    "@track_function\n",
    "def get_dataflows(ws_id):\n",
    "    \"\"\"\n",
    "    Gets all Dataflows from the specified workspace\n",
    "    \"\"\"\n",
    "    dataflows = fabric.list_items(type='Dataflow',workspace=ws_id)\n",
    "    if not dataflows.empty:\n",
    "        dataflows = sanitize_df_columns(dataflows)    \n",
    "        tracker.stats['total_dataflows'] += len(dataflows)\n",
    "        return dataflows\n",
    "    else:\n",
    "        return []\n",
    "\n",
    "@track_function\n",
    "def get_tables(ws_id, ds_id):\n",
    "    tables = fabric.list_tables(dataset=ds_id,workspace=ws_id,extended=True)\n",
    "    if not tables.empty:\n",
    "        tables['table_id'] = (\n",
    "            ds_id + \"|\" + ws_id + \"n:\" + tables['Name'].astype(str)\n",
    "        )\n",
    "        tables = sanitize_df_columns(tables,True,ws_id,ds_id)\n",
    "        tracker.stats['total_tables'] += len(tables) \n",
    "        return tables\n",
    "    else:\n",
    "        return []\n",
    "\n",
    "@track_function\n",
    "def get_measures(ws_id, ds_id):\n",
    "    measures = fabric.list_measures(dataset=ds_id,workspace=ws_id)\n",
    "    if not measures.empty:\n",
    "        measures = sanitize_df_columns(measures,True,ws_id,ds_id)\n",
    "        tracker.stats['total_measures'] += len(measures) \n",
    "        return measures\n",
    "    else:\n",
    "        return []\n",
    "\n",
    "@track_function\n",
    "def get_relationships(ws_id, ds_id):\n",
    "    relationships = fabric.list_relationships(dataset=ds_id,workspace=ws_id,extended=True)\n",
    "    if not relationships.empty:\n",
    "        relationships = sanitize_df_columns(relationships,True,ws_id,ds_id)\n",
    "        tracker.stats['total_relationships'] += len(relationships) \n",
    "        return relationships\n",
    "    else:\n",
    "        return []\n",
    "\n",
    "@track_function\n",
    "def get_table_columns(ws_id, ds_id):\n",
    "\n",
    "    dataset_cols = fabric.list_columns(dataset=ds_id,workspace=ws_id)\n",
    "\n",
    "    if not dataset_cols.empty:\n",
    "        dataset_cols['table_id'] =  (\n",
    "            ds_id + \"|\" + ws_id + \"n:\" + dataset_cols['Table Name'].astype(str)\n",
    "        )\n",
    "        dataset_cols = sanitize_df_columns(dataset_cols,True,ws_id,ds_id)\n",
    "        tracker.stats['total_columns'] += len(dataset_cols)\n",
    "        return dataset_cols\n",
    "    else:\n",
    "        return []"
   ]
  },
  {
   "cell_type": "code",
   "execution_count": null,
   "id": "c14e0d49-0f4e-4467-b249-64b769b9bb77",
   "metadata": {
    "microsoft": {
     "language": "python",
     "language_group": "synapse_pyspark"
    }
   },
   "outputs": [
    {
     "data": {
      "application/vnd.livy.statement-meta+json": {
       "execution_finish_time": "2025-10-13T14:41:42.8776864Z",
       "execution_start_time": "2025-10-13T14:41:42.5734963Z",
       "livy_statement_state": "available",
       "normalized_state": "finished",
       "parent_msg_id": "757c7d6f-088b-4222-a858-4daa12c50b70",
       "queued_time": "2025-10-13T14:41:19.0633327Z",
       "session_id": "58f2a5b9-4033-4bdf-bd03-8a202fd7a88c",
       "session_start_time": null,
       "spark_pool": null,
       "state": "finished",
       "statement_id": 9,
       "statement_ids": [
        9
       ]
      },
      "text/plain": [
       "StatementMeta(, 58f2a5b9-4033-4bdf-bd03-8a202fd7a88c, 9, Finished, Available, Finished)"
      ]
     },
     "metadata": {},
     "output_type": "display_data"
    }
   ],
   "source": [
    "# @title GET OBJECTS FUNCTION\n",
    "_cell_name = \"GET OBJECTS FUNCTION\"\n",
    "\n",
    "def get_workspace_objects(workspaces):\n",
    "\n",
    "    \"\"\"\n",
    "        Gets workspace level objects like Semantic Models/Datasets, Reports, and Dataflows\n",
    "    \"\"\"\n",
    "\n",
    "    dataset_list = []\n",
    "    report_list = []\n",
    "    dataflows_list = []\n",
    "    tables_list = []\n",
    "    measures_list = []\n",
    "    relationships_list = []\n",
    "    dataset_cols_list = []\n",
    "    for _, ws in workspaces.iterrows():\n",
    "        ws_name = ws['name']\n",
    "        ws_id = ws['id']\n",
    "        ws_type = ws['type']\n",
    "                            \n",
    "        tracker.stats['processed_workspaces'] += 1\n",
    "        if ws_type == 'AdminInsights':\n",
    "            continue\n",
    "\n",
    "        tracker.update(\n",
    "            current_workspace = ws_name,\n",
    "            current_operation = 'Scanning for Reports...',\n",
    "            current_object = {\n",
    "                'object_type': 'Workspace',\n",
    "                'object_name': ws_name\n",
    "            },\n",
    "            processed_datasets = 0,\n",
    "            workspace_datasets = 0\n",
    "        )\n",
    "        try:\n",
    "            reports = get_reports(ws_id)\n",
    "            if len(reports) > 0:\n",
    "                report_list.append(reports)\n",
    "                tracker.update(\n",
    "                    workspace_reports = len(reports),\n",
    "                    current_operation = 'Scanning for Dataflows...'\n",
    "                )\n",
    "\n",
    "            dataflows = get_dataflows(ws_id)\n",
    "            if len(dataflows) > 0:\n",
    "                dataflows_list.append(dataflows)\n",
    "                tracker.update(\n",
    "                    workspace_dataflows = len(dataflows),\n",
    "                    current_operation = 'Scanning for Datasets...'\n",
    "                )\n",
    "\n",
    "            datasets = get_datasets(ws_id)\n",
    "            if len(datasets) > 0:\n",
    "                dataset_list.append(datasets)\n",
    "                tracker.update(\n",
    "                    workspace_datasets = len(datasets),\n",
    "                    current_operation = 'Scanning For Measures...'\n",
    "                )\n",
    "            \n",
    "            for ds_name, ds_id in zip(datasets['dataset_name'],datasets['dataset_id']):\n",
    "                tracker.stats['processed_datasets'] += 1\n",
    "                tracker.update(\n",
    "                    current_object = {\n",
    "                        'object_name': ds_name,\n",
    "                        'object_type': 'Dataset'\n",
    "                    },\n",
    "                    dataset_tables = 0,\n",
    "                    dataset_measures = 0,\n",
    "                    dataset_relationships = 0,\n",
    "                    current_dataset = ds_name\n",
    "                )\n",
    "\n",
    "                measures = get_measures(ws_id, ds_id)\n",
    "                if len(measures) > 0:\n",
    "                    measures_list.append(measures)\n",
    "                    tracker.update(\n",
    "                        dataset_measures = len(measures),\n",
    "                        current_operation = 'Scanning for Relationships...'\n",
    "                    )\n",
    "                \n",
    "                relationships = get_relationships(ws_id, ds_id)\n",
    "                if len(relationships) > 0:\n",
    "                    relationships_list.append(relationships)\n",
    "                    tracker.update(\n",
    "                        dataset_relationships = len(relationships),\n",
    "                        current_operation = 'Scanning for Tables...'\n",
    "                    )\n",
    "\n",
    "                tables = get_tables(ws_id,ds_id)\n",
    "                if len(tables) > 0:\n",
    "                    tables_list.append(tables)\n",
    "                    tracker.update(\n",
    "                        dataset_tables = len(tables),\n",
    "                        current_operation = 'Getting Table Columns...'\n",
    "                    )\n",
    "                \n",
    "                dataset_cols = get_table_columns(ws_id,ds_id)\n",
    "\n",
    "                if len(dataset_cols) > 0:\n",
    "                    dataset_cols_list.append(dataset_cols)\n",
    "                    tracker.update(\n",
    "                        dataset_columns = len(dataset_cols),\n",
    "                        current_operation = 'Saving data...'\n",
    "                    )\n",
    "        except Exception as e:\n",
    "            tb = traceback.format_exc().splitlines()\n",
    "            tracker.log_error(f\"Error while finding objects.\", e)\n",
    "            raise\n",
    "\n",
    "    all_datasets = pd.concat(dataset_list, ignore_index=True)\n",
    "    all_reports = pd.concat(report_list, ignore_index=True)\n",
    "    all_dataflows = pd.concat(dataflows_list, ignore_index=True)\n",
    "    all_measures = pd.concat(measures_list, ignore_index=True)\n",
    "    all_relationships = pd.concat(relationships_list, ignore_index=True)\n",
    "    all_tables = pd.concat(tables_list, ignore_index=True)\n",
    "    all_columns = pd.concat(dataset_cols_list, ignore_index=True)\n",
    "    return all_datasets, all_reports, all_dataflows, all_measures, all_relationships, all_tables, all_columns"
   ]
  },
  {
   "cell_type": "code",
   "execution_count": null,
   "id": "3c61f883-1b11-4732-838d-d9f65533e7fa",
   "metadata": {
    "microsoft": {
     "language": "python",
     "language_group": "synapse_pyspark"
    }
   },
   "outputs": [
    {
     "name": "stdout",
     "output_type": "stream",
     "text": [
      "╔════════════════ Scan Status ════════════════╗\n",
      "║Runtime: 0:01:04\n",
      "║Processing Stage: \n",
      "║Current Operation: Scanning for Tables...\n",
      "\n",
      "Scan Progress: ⠼ 🔄\n",
      "║Processing Workspace: 3/3 Admin Test Workspace\n",
      "╢██████████████████████████████████████████████████╟ 100%\n",
      "Admin Test Workspace Workspace Objects\n",
      "║Reports: 2 | Dataflows: 1 | Datasets: 2\n",
      "║Processing Dataset: 2/2 Commuter Challenge Report\n",
      "╢██████████████████████████████████████████████████╟ 100%\n",
      "\n",
      "Commuter Challenge Report Dataset Objects\n",
      "║Measures: 58 | Relationships: 1 | Tables: 0 | Columns: 56\n",
      "\n",
      "All Objects Summary\n",
      "║Total Workspaces: 3 | Total Reports: 9 | Total Datasets: 7 | Total_Dataflows: 1 \n",
      "║Total Measures: 320 | Total Relationships: 46 | Total Tables: 66\n",
      "║Total Columns: 480\n"
     ]
    }
   ],
   "source": [
    "from ctypes import Array\n",
    "\n",
    "\n",
    "def main():\n",
    "    # tracker = NewTracker()\n",
    "    workspaces = fabric.list_workspaces()\n",
    "    workspaces = sanitize_df_columns(workspaces)    \n",
    "    tracker.update(\n",
    "        processed_workspaces = 0,\n",
    "        total_workspaces = len(workspaces)\n",
    "    )\n",
    "\n",
    "    datasets, reports, dataflows, measures, relationships, tables, columns = get_workspace_objects(workspaces)\n",
    "\n",
    "    spark.createDataFrame(datasets).write.mode(\"overwrite\").saveAsTable(\"workspace_datasets\")\n",
    "    spark.createDataFrame(columns).write.mode(\"overwrite\").saveAsTable(\"dataset_columns\")\n",
    "    spark.createDataFrame(tables).write.mode(\"overwrite\").saveAsTable(\"dataset_tables\")\n",
    "    spark.createDataFrame(dataflows).write.mode(\"overwrite\").saveAsTable(\"workspace_dataflows\")\n",
    "    spark.createDataFrame(measures).write.mode(\"overwrite\").saveAsTable(\"dataset_measures\")\n",
    "    reports = spark.createDataFrame(reports)\n",
    "    columns_to_clean = ['users', 'subscription']\n",
    "    for col_name in columns_to_clean:\n",
    "        reports= reports.withColumn(\n",
    "            col_name, \n",
    "            F.col(col_name).cast(ArrayType(StringType()))\n",
    "        )\n",
    "    reports.write.mode(\"overwrite\").saveAsTable(\"workspace_reports\")\n",
    "\n",
    "    for col in relationships.select_dtypes(include=['uint64']).columns:\n",
    "        relationships[col] = relationships[col].astype('int64')\n",
    "    spark.createDataFrame(relationships).write.mode(\"overwrite\").saveAsTable(\"dataset_relationships\")\n",
    "    tracker.update(processing_stage = 'Completed', current_operation = '', current_object = {})\n",
    "main()"
   ]
  },
  {
   "cell_type": "code",
   "execution_count": 6,
   "id": "e83bdfab-91d4-4b82-876e-56d34772a22b",
   "metadata": {
    "collapsed": false,
    "microsoft": {
     "language": "python",
     "language_group": "synapse_pyspark"
    }
   },
   "outputs": [
    {
     "data": {
      "application/vnd.livy.statement-meta+json": {
       "execution_finish_time": "2025-10-13T08:03:34.8211655Z",
       "execution_start_time": "2025-10-13T08:02:34.060968Z",
       "livy_statement_state": "available",
       "normalized_state": "finished",
       "parent_msg_id": "af6854c0-623b-4aa3-b68a-ddbe14aa6b4e",
       "queued_time": "2025-10-13T08:01:22.9965586Z",
       "session_id": "ced01f57-503e-4eba-977e-13c8e402895d",
       "session_start_time": null,
       "spark_pool": null,
       "state": "finished",
       "statement_id": 8,
       "statement_ids": [
        8
       ]
      },
      "text/plain": [
       "StatementMeta(, ced01f57-503e-4eba-977e-13c8e402895d, 8, Finished, Available, Finished)"
      ]
     },
     "metadata": {},
     "output_type": "display_data"
    },
    {
     "name": "stdout",
     "output_type": "stream",
     "text": [
      "Test Workspace\n",
      "b65c4f2f-2716-4744-8640-02768f9bb745\n",
      "5fef939e-8bd0-40e1-a0c5-a7a9a49094d1\n",
      "7baa7156-6ba5-4ab1-ab93-bd9b86ad652b\n",
      "e8617ace-ec77-417d-a217-f5179839d3d1\n",
      "89792539-b95e-48f7-a104-214453128551\n",
      "Admin Test Workspace\n",
      "f5dfaf24-7218-47fe-92dc-50b727944d3e\n",
      "1ef3e3c5-ea94-46bf-9a29-51570a0cd43a\n"
     ]
    }
   ],
   "source": [
    "\n",
    "def save_data_to_Lakehouse():\n",
    "    spark.createDataFrame(all_datasets).write.mode('overwrite').saveAsTable(\"workspace_datasets\")\n",
    "    spark.createDataFrame(all_tables).write.mode('overwrite').saveAsTable(\"dataset_tables\")\n",
    "    spark.createDataFrame(all_columns).write.mode('overwrite').saveAsTable(\"table_columns\")\n",
    "    spark.createDataFrame(all_measures).write.mode('overwrite').saveAsTable(\"dataset_measures\")\n",
    "    all_reports = spark.createDataFrame(all_reports)\n",
    "    columns_to_clean = ['users', 'subscriptions']\n",
    "    for col in columns_to_clean:\n",
    "        all_reports =  all_reports.withColumn(\n",
    "            col,\n",
    "            F.col(col).cast(ArrayType(StringType()))\n",
    "        )\n",
    "    all_reports.write.mode('overwrite').saveAsTable(\"workspace_reports\")\n",
    "\n",
    "    for col in all_relationships.select_dtypes(include=['uint64']).columns:\n",
    "        all_relationships[col] = all_relationships[col].astype('int64')\n",
    "\n",
    "    spark.createDataFrame(all_relationships).write.mode('overwrite').saveAsTable(\"dataset_relationships\")\n",
    "# Invalid Date, Invalid Date"
   ]
  },
  {
   "cell_type": "markdown",
   "id": "data-preparation-section",
   "metadata": {
    "microsoft": {
     "language": "python",
     "language_group": "synapse_pyspark"
    },
    "nteract": {
     "transient": {
      "deleting": false
     }
    }
   },
   "source": [
    "# Data Preparation Functions\n",
    "\n",
    "## Step 1: Get Model Dependencies & Report Objects\n",
    "\n",
    "### Libraries Used:\n",
    "- `fabric.get_model_calc_dependencies()`: Retrieves calculation dependencies\n",
    "- `ReportWrapper().list_semantic_model_objects()`: Gets objects used in reports\n",
    "\n",
    "These functions establish the foundation for analysis by gathering:\n",
    "1. **Dependencies DataFrame**: Shows which objects reference other objects\n",
    "2. **Report Objects DataFrame**: Lists objects actually used in report visualizations\n"
   ]
  },
  {
   "cell_type": "code",
   "execution_count": 4,
   "id": "c14872c5-e87c-4369-8e05-40dd849ad3ce",
   "metadata": {
    "microsoft": {
     "language": "python",
     "language_group": "synapse_pyspark"
    }
   },
   "outputs": [
    {
     "data": {
      "application/vnd.livy.statement-meta+json": {
       "execution_finish_time": "2025-10-13T10:33:38.1469357Z",
       "execution_start_time": "2025-10-13T10:33:37.850357Z",
       "livy_statement_state": "available",
       "normalized_state": "finished",
       "parent_msg_id": "8f7b0425-a390-4c32-aabb-3c7693a06b64",
       "queued_time": "2025-10-13T10:33:37.8490718Z",
       "session_id": "f3c606fa-1350-4e6b-beb3-ff06cd72dd01",
       "session_start_time": null,
       "spark_pool": null,
       "state": "finished",
       "statement_id": 6,
       "statement_ids": [
        6
       ]
      },
      "text/plain": [
       "StatementMeta(, f3c606fa-1350-4e6b-beb3-ff06cd72dd01, 6, Finished, Available, Finished)"
      ]
     },
     "metadata": {},
     "output_type": "display_data"
    }
   ],
   "source": [
    "def find_model_dependencies(workspace,dataset):\n",
    "    \"\"\"\n",
    "    Retrieves calculation dependencies from the semantic model.\n",
    "    \n",
    "    Uses fabric.get_model_calc_dependencies() to analyze which objects\n",
    "    reference other objects within the model (e.g., measures referencing columns).\n",
    "    \n",
    "    Returns:\n",
    "        pandas.DataFrame: Contains dependency relationships with columns:\n",
    "            - Object: The object that has dependencies\n",
    "            - Referenced Object: The object being referenced\n",
    "            - Referenced Object Type: Type (Measure, Column, Table, etc.)\n",
    "            - Referenced Table: Table containing the referenced object\n",
    "    \"\"\"\n",
    "    dependencies = fabric.get_model_calc_dependencies(\n",
    "        dataset=dataset,\n",
    "        workspace=workspace\n",
    "    )\n",
    "\n",
    "    with dependencies as calc_deps:\n",
    "        df = getattr(calc_deps, \"dependencies_df\", None)\n",
    "\n",
    "    return df\n",
    "\n",
    "\n",
    "def find_report_objects(workspace,report):\n",
    "    \"\"\"\n",
    "    Identifies objects used in report visualizations.\n",
    "    \n",
    "    Uses ReportWrapper to scan report pages and extract semantic model\n",
    "    objects (measures, columns, tables) that are actively used in visuals.\n",
    "    \n",
    "    Returns:\n",
    "        pandas.DataFrame: Contains report usage data with columns:\n",
    "            - Object Type: Type of object (Measure, Column, Table)\n",
    "            - Object Name: Name of the object\n",
    "            - Table Name: Parent table name\n",
    "            - Report Page: Page where object is used\n",
    "            - Visual Type: Type of visual using the object\n",
    "    \"\"\"\n",
    "    rpt = ReportWrapper(\n",
    "        report=report,\n",
    "        workspace=workspace\n",
    "    )\n",
    "\n",
    "    report_objects = rpt.list_semantic_model_objects()\n",
    "\n",
    "    return report_objects"
   ]
  },
  {
   "cell_type": "code",
   "execution_count": 5,
   "id": "9223b288-3b7c-454c-8a59-1ef5c28de91e",
   "metadata": {
    "collapsed": false,
    "microsoft": {
     "language": "python",
     "language_group": "synapse_pyspark"
    }
   },
   "outputs": [
    {
     "data": {
      "application/vnd.livy.statement-meta+json": {
       "execution_finish_time": "2025-10-13T10:33:44.1620187Z",
       "execution_start_time": "2025-10-13T10:33:43.8912528Z",
       "livy_statement_state": "available",
       "normalized_state": "finished",
       "parent_msg_id": "b7cf2825-f876-4dc1-acc5-6fadef3b55b7",
       "queued_time": "2025-10-13T10:33:43.8902006Z",
       "session_id": "f3c606fa-1350-4e6b-beb3-ff06cd72dd01",
       "session_start_time": null,
       "spark_pool": null,
       "state": "finished",
       "statement_id": 7,
       "statement_ids": [
        7
       ]
      },
      "text/plain": [
       "StatementMeta(, f3c606fa-1350-4e6b-beb3-ff06cd72dd01, 7, Finished, Available, Finished)"
      ]
     },
     "metadata": {},
     "output_type": "display_data"
    },
    {
     "ename": "NameError",
     "evalue": "name 'fabric' is not defined",
     "output_type": "error",
     "traceback": [
      "\u001b[0;31m---------------------------------------------------------------------------\u001b[0m",
      "\u001b[0;31mNameError\u001b[0m                                 Traceback (most recent call last)",
      "Cell \u001b[0;32mIn[20], line 1\u001b[0m\n\u001b[0;32m----> 1\u001b[0m deps \u001b[38;5;241m=\u001b[39m find_model_dependencies(workspace\u001b[38;5;241m=\u001b[39m\u001b[38;5;124m'\u001b[39m\u001b[38;5;124m32bcf9c2-9d7d-4857-9188-ef29efac3a3b\u001b[39m\u001b[38;5;124m'\u001b[39m,dataset\u001b[38;5;241m=\u001b[39m\u001b[38;5;124m'\u001b[39m\u001b[38;5;124mb65c4f2f-2716-4744-8640-02768f9bb745\u001b[39m\u001b[38;5;124m'\u001b[39m)\n\u001b[1;32m      2\u001b[0m display(deps)\n",
      "Cell \u001b[0;32mIn[17], line 15\u001b[0m, in \u001b[0;36mfind_model_dependencies\u001b[0;34m(workspace, dataset)\u001b[0m\n\u001b[1;32m      1\u001b[0m \u001b[38;5;28;01mdef\u001b[39;00m \u001b[38;5;21mfind_model_dependencies\u001b[39m(workspace,dataset):\n\u001b[1;32m      2\u001b[0m \u001b[38;5;250m    \u001b[39m\u001b[38;5;124;03m\"\"\"\u001b[39;00m\n\u001b[1;32m      3\u001b[0m \u001b[38;5;124;03m    Retrieves calculation dependencies from the semantic model.\u001b[39;00m\n\u001b[1;32m      4\u001b[0m \u001b[38;5;124;03m    \u001b[39;00m\n\u001b[0;32m   (...)\u001b[0m\n\u001b[1;32m     13\u001b[0m \u001b[38;5;124;03m            - Referenced Table: Table containing the referenced object\u001b[39;00m\n\u001b[1;32m     14\u001b[0m \u001b[38;5;124;03m    \"\"\"\u001b[39;00m\n\u001b[0;32m---> 15\u001b[0m     dependencies \u001b[38;5;241m=\u001b[39m fabric\u001b[38;5;241m.\u001b[39mget_model_calc_dependencies(\n\u001b[1;32m     16\u001b[0m         dataset\u001b[38;5;241m=\u001b[39mdataset,\n\u001b[1;32m     17\u001b[0m         workspace\u001b[38;5;241m=\u001b[39mworkspace\n\u001b[1;32m     18\u001b[0m     )\n\u001b[1;32m     20\u001b[0m     \u001b[38;5;28;01mwith\u001b[39;00m dependencies \u001b[38;5;28;01mas\u001b[39;00m calc_deps:\n\u001b[1;32m     21\u001b[0m         df \u001b[38;5;241m=\u001b[39m \u001b[38;5;28mgetattr\u001b[39m(calc_deps, \u001b[38;5;124m\"\u001b[39m\u001b[38;5;124mdependencies_df\u001b[39m\u001b[38;5;124m\"\u001b[39m, \u001b[38;5;28;01mNone\u001b[39;00m)\n",
      "\u001b[0;31mNameError\u001b[0m: name 'fabric' is not defined"
     ]
    }
   ],
   "source": [
    "deps = find_model_dependencies(workspace='32bcf9c2-9d7d-4857-9188-ef29efac3a3b',dataset='b65c4f2f-2716-4744-8640-02768f9bb745')\n",
    "display(deps)"
   ]
  },
  {
   "cell_type": "code",
   "execution_count": 18,
   "id": "5819c14a-cdf9-4c49-b070-025cbb1ef777",
   "metadata": {
    "collapsed": false,
    "microsoft": {
     "language": "python",
     "language_group": "synapse_pyspark"
    }
   },
   "outputs": [
    {
     "data": {
      "application/vnd.livy.statement-meta+json": {
       "execution_finish_time": "2025-10-13T08:10:51.9870216Z",
       "execution_start_time": "2025-10-13T08:10:51.1318225Z",
       "livy_statement_state": "available",
       "normalized_state": "finished",
       "parent_msg_id": "14437f12-a245-44ab-bc6f-38583ea658d5",
       "queued_time": "2025-10-13T08:10:51.13079Z",
       "session_id": "ced01f57-503e-4eba-977e-13c8e402895d",
       "session_start_time": null,
       "spark_pool": null,
       "state": "finished",
       "statement_id": 20,
       "statement_ids": [
        20
       ]
      },
      "text/plain": [
       "StatementMeta(, ced01f57-503e-4eba-977e-13c8e402895d, 20, Finished, Available, Finished)"
      ]
     },
     "metadata": {},
     "output_type": "display_data"
    },
    {
     "data": {
      "text/plain": [
       "0                Date\n",
       "1                Year\n",
       "2      CurrYearOffset\n",
       "3       YearCompleted\n",
       "4      Quarter Number\n",
       "            ...      \n",
       "122          category\n",
       "123      Vehicle_Make\n",
       "124                id\n",
       "125                id\n",
       "126               MIK\n",
       "Name: column_name, Length: 127, dtype: object"
      ]
     },
     "metadata": {},
     "output_type": "display_data"
    }
   ],
   "source": [
    "columns_df = all_columns[all_columns['dataset_id']=='b65c4f2f-2716-4744-8640-02768f9bb745']['column_name']\n",
    "display(columns_df)"
   ]
  },
  {
   "cell_type": "code",
   "execution_count": 21,
   "id": "75b6ac50-507e-42fc-9d11-7e38cb5c7bf3",
   "metadata": {
    "microsoft": {
     "language": "python",
     "language_group": "synapse_pyspark"
    }
   },
   "outputs": [
    {
     "data": {
      "application/vnd.livy.statement-meta+json": {
       "execution_finish_time": "2025-10-13T08:22:01.5429418Z",
       "execution_start_time": "2025-10-13T08:21:53.6966202Z",
       "livy_statement_state": "available",
       "normalized_state": "finished",
       "parent_msg_id": "58f4e841-b9c0-49f7-94dc-d53a1bb5deb0",
       "queued_time": "2025-10-13T08:21:53.6955579Z",
       "session_id": "ced01f57-503e-4eba-977e-13c8e402895d",
       "session_start_time": null,
       "spark_pool": null,
       "state": "finished",
       "statement_id": 23,
       "statement_ids": [
        23
       ]
      },
      "text/plain": [
       "StatementMeta(, ced01f57-503e-4eba-977e-13c8e402895d, 23, Finished, Available, Finished)"
      ]
     },
     "metadata": {},
     "output_type": "display_data"
    },
    {
     "ename": "NotImplementedError",
     "evalue": "🔴 This ReportWrapper function requires the report to be in the PBIR format.See here for details: https://powerbi.microsoft.com/blog/power-bi-enhanced-report-format-pbir-in-power-bi-desktop-developer-mode-preview/",
     "output_type": "error",
     "traceback": [
      "\u001b[0;31m---------------------------------------------------------------------------\u001b[0m",
      "\u001b[0;31mNotImplementedError\u001b[0m                       Traceback (most recent call last)",
      "Cell \u001b[0;32mIn[68], line 1\u001b[0m\n\u001b[0;32m----> 1\u001b[0m find_report_objects(\u001b[38;5;124m'\u001b[39m\u001b[38;5;124m0e5c51b6-1871-4c2f-acd0-f71e528fb1f2\u001b[39m\u001b[38;5;124m'\u001b[39m,\u001b[38;5;124m'\u001b[39m\u001b[38;5;124mc4393eac-c6a3-40e0-8b66-609c8b2af014\u001b[39m\u001b[38;5;124m'\u001b[39m)\n",
      "Cell \u001b[0;32mIn[32], line 46\u001b[0m, in \u001b[0;36mfind_report_objects\u001b[0;34m(workspace, report)\u001b[0m\n\u001b[1;32m     27\u001b[0m \u001b[38;5;250m\u001b[39m\u001b[38;5;124;03m\"\"\"\u001b[39;00m\n\u001b[1;32m     28\u001b[0m \u001b[38;5;124;03mIdentifies objects used in report visualizations.\u001b[39;00m\n\u001b[1;32m     29\u001b[0m \u001b[38;5;124;03m\u001b[39;00m\n\u001b[0;32m   (...)\u001b[0m\n\u001b[1;32m     39\u001b[0m \u001b[38;5;124;03m        - Visual Type: Type of visual using the object\u001b[39;00m\n\u001b[1;32m     40\u001b[0m \u001b[38;5;124;03m\"\"\"\u001b[39;00m\n\u001b[1;32m     41\u001b[0m rpt \u001b[38;5;241m=\u001b[39m ReportWrapper(\n\u001b[1;32m     42\u001b[0m     report\u001b[38;5;241m=\u001b[39mreport,\n\u001b[1;32m     43\u001b[0m     workspace\u001b[38;5;241m=\u001b[39mworkspace\n\u001b[1;32m     44\u001b[0m )\n\u001b[0;32m---> 46\u001b[0m report_objects \u001b[38;5;241m=\u001b[39m rpt\u001b[38;5;241m.\u001b[39mlist_semantic_model_objects()\n\u001b[1;32m     48\u001b[0m \u001b[38;5;28;01mreturn\u001b[39;00m report_objects\n",
      "File \u001b[0;32m~/cluster-env/trident_env/lib/python3.11/site-packages/sempy_labs/report/_reportwrapper.py:1540\u001b[0m, in \u001b[0;36mReportWrapper.list_semantic_model_objects\u001b[0;34m(self, extended)\u001b[0m\n\u001b[1;32m   1524\u001b[0m \u001b[38;5;28;01mdef\u001b[39;00m \u001b[38;5;21mlist_semantic_model_objects\u001b[39m(\u001b[38;5;28mself\u001b[39m, extended: \u001b[38;5;28mbool\u001b[39m \u001b[38;5;241m=\u001b[39m \u001b[38;5;28;01mFalse\u001b[39;00m) \u001b[38;5;241m-\u001b[39m\u001b[38;5;241m>\u001b[39m pd\u001b[38;5;241m.\u001b[39mDataFrame:\n\u001b[1;32m   1525\u001b[0m \u001b[38;5;250m    \u001b[39m\u001b[38;5;124;03m\"\"\"\u001b[39;00m\n\u001b[1;32m   1526\u001b[0m \u001b[38;5;124;03m    Shows a list of all semantic model objects (measures, columns, hierarchies) that are used in the report and where the objects\u001b[39;00m\n\u001b[1;32m   1527\u001b[0m \u001b[38;5;124;03m    were used (i.e. visual, report filter, page filter, visual filter).\u001b[39;00m\n\u001b[0;32m   (...)\u001b[0m\n\u001b[1;32m   1538\u001b[0m \u001b[38;5;124;03m        A pandas dataframe showing the semantic model objects used in the report.\u001b[39;00m\n\u001b[1;32m   1539\u001b[0m \u001b[38;5;124;03m    \"\"\"\u001b[39;00m\n\u001b[0;32m-> 1540\u001b[0m     \u001b[38;5;28mself\u001b[39m\u001b[38;5;241m.\u001b[39m_ensure_pbir()\n\u001b[1;32m   1542\u001b[0m     \u001b[38;5;28;01mfrom\u001b[39;00m \u001b[38;5;21;01msempy_labs\u001b[39;00m\u001b[38;5;21;01m.\u001b[39;00m\u001b[38;5;21;01mtom\u001b[39;00m \u001b[38;5;28;01mimport\u001b[39;00m connect_semantic_model\n\u001b[1;32m   1544\u001b[0m     columns \u001b[38;5;241m=\u001b[39m {\n\u001b[1;32m   1545\u001b[0m         \u001b[38;5;124m\"\u001b[39m\u001b[38;5;124mTable Name\u001b[39m\u001b[38;5;124m\"\u001b[39m: \u001b[38;5;124m\"\u001b[39m\u001b[38;5;124mstr\u001b[39m\u001b[38;5;124m\"\u001b[39m,\n\u001b[1;32m   1546\u001b[0m         \u001b[38;5;124m\"\u001b[39m\u001b[38;5;124mObject Name\u001b[39m\u001b[38;5;124m\"\u001b[39m: \u001b[38;5;124m\"\u001b[39m\u001b[38;5;124mstr\u001b[39m\u001b[38;5;124m\"\u001b[39m,\n\u001b[0;32m   (...)\u001b[0m\n\u001b[1;32m   1549\u001b[0m         \u001b[38;5;124m\"\u001b[39m\u001b[38;5;124mReport Source Object\u001b[39m\u001b[38;5;124m\"\u001b[39m: \u001b[38;5;124m\"\u001b[39m\u001b[38;5;124mstr\u001b[39m\u001b[38;5;124m\"\u001b[39m,\n\u001b[1;32m   1550\u001b[0m     }\n",
      "File \u001b[0;32m~/cluster-env/trident_env/lib/python3.11/site-packages/sempy_labs/report/_reportwrapper.py:164\u001b[0m, in \u001b[0;36mReportWrapper._ensure_pbir\u001b[0;34m(self)\u001b[0m\n\u001b[1;32m    161\u001b[0m \u001b[38;5;28;01mdef\u001b[39;00m \u001b[38;5;21m_ensure_pbir\u001b[39m(\u001b[38;5;28mself\u001b[39m):\n\u001b[1;32m    163\u001b[0m     \u001b[38;5;28;01mif\u001b[39;00m \u001b[38;5;28mself\u001b[39m\u001b[38;5;241m.\u001b[39mformat \u001b[38;5;241m!=\u001b[39m \u001b[38;5;124m\"\u001b[39m\u001b[38;5;124mPBIR\u001b[39m\u001b[38;5;124m\"\u001b[39m:\n\u001b[0;32m--> 164\u001b[0m         \u001b[38;5;28;01mraise\u001b[39;00m \u001b[38;5;167;01mNotImplementedError\u001b[39;00m(\n\u001b[1;32m    165\u001b[0m             \u001b[38;5;124mf\u001b[39m\u001b[38;5;124m\"\u001b[39m\u001b[38;5;132;01m{\u001b[39;00micons\u001b[38;5;241m.\u001b[39mred_dot\u001b[38;5;132;01m}\u001b[39;00m\u001b[38;5;124m This ReportWrapper function requires the report to be in the PBIR format.\u001b[39m\u001b[38;5;124m\"\u001b[39m\n\u001b[1;32m    166\u001b[0m             \u001b[38;5;124m\"\u001b[39m\u001b[38;5;124mSee here for details: https://powerbi.microsoft.com/blog/power-bi-enhanced-report-format-pbir-in-power-bi-desktop-developer-mode-preview/\u001b[39m\u001b[38;5;124m\"\u001b[39m\n\u001b[1;32m    167\u001b[0m         )\n",
      "\u001b[0;31mNotImplementedError\u001b[0m: 🔴 This ReportWrapper function requires the report to be in the PBIR format.See here for details: https://powerbi.microsoft.com/blog/power-bi-enhanced-report-format-pbir-in-power-bi-desktop-developer-mode-preview/"
     ]
    }
   ],
   "source": [
    "find_report_objects('0e5c51b6-1871-4c2f-acd0-f71e528fb1f2','c4393eac-c6a3-40e0-8b66-609c8b2af014')"
   ]
  },
  {
   "cell_type": "code",
   "execution_count": 22,
   "id": "5ce0daf7-b40e-4328-895f-f28e64c506cc",
   "metadata": {
    "microsoft": {
     "language": "python",
     "language_group": "synapse_pyspark"
    }
   },
   "outputs": [
    {
     "data": {
      "application/vnd.livy.statement-meta+json": {
       "execution_finish_time": "2025-10-13T08:25:46.8073335Z",
       "execution_start_time": "2025-10-13T08:25:41.9688823Z",
       "livy_statement_state": "available",
       "normalized_state": "finished",
       "parent_msg_id": "d0d57477-0338-4ed0-8527-5872975246ff",
       "queued_time": "2025-10-13T08:25:41.9676908Z",
       "session_id": "ced01f57-503e-4eba-977e-13c8e402895d",
       "session_start_time": null,
       "spark_pool": null,
       "state": "finished",
       "statement_id": 24,
       "statement_ids": [
        24
       ]
      },
      "text/plain": [
       "StatementMeta(, ced01f57-503e-4eba-977e-13c8e402895d, 24, Finished, Available, Finished)"
      ]
     },
     "metadata": {},
     "output_type": "display_data"
    },
    {
     "name": "stdout",
     "output_type": "stream",
     "text": [
      "PBIR-Legacy\n"
     ]
    }
   ],
   "source": [
    "rpt = ReportWrapper(report='c4393eac-c6a3-40e0-8b66-609c8b2af014',workspace='0e5c51b6-1871-4c2f-acd0-f71e528fb1f2')\n",
    "fmt = rpt.format\n",
    "print(fmt)"
   ]
  },
  {
   "cell_type": "markdown",
   "id": "fb7f5a7e-870b-47fc-9dcf-981d9692a969",
   "metadata": {
    "microsoft": {
     "language": "python",
     "language_group": "synapse_pyspark"
    },
    "nteract": {
     "transient": {
      "deleting": false
     }
    }
   },
   "source": [
    "# 🎯 Unused Measures Analysis\n",
    "\n",
    "### Process Overview:\n",
    "1. **GET ALL MEASURES** - Extract complete measure inventory from model\n",
    "2. **GET REFERENCED MEASURES** - Find measures referenced by other calculations\n",
    "3. **GET MEASURES USED IN REPORT VISUALS** - Identify measures actively used in visualizations\n",
    "\n",
    "### Libraries Used:\n",
    "- `fabric.list_measures()`: Retrieves all measures from the semantic model\n",
    "- Dependencies DataFrame: Filters for measures referenced in calculations\n",
    "- Report Objects DataFrame: Filters for measures used in visualizations\n",
    "\n",
    "### Analysis Logic:\n",
    "```\n",
    "UNUSED MEASURES = ALL MEASURES - (REFERENCED MEASURES ∪ REPORT MEASURES)\n",
    "```\n",
    "\n",
    "**A measure is considered unused if:**\n",
    "- ❌ Not used in any report visualizations\n",
    "- ❌ Not referenced by other calculated columns or measures\n",
    "- ❌ Not used in calculated tables or other DAX expressions\n",
    "\n",
    "---"
   ]
  },
  {
   "cell_type": "code",
   "execution_count": 2,
   "id": "a1fb3bf9-bb8c-4e97-9051-4c1174f3d281",
   "metadata": {
    "collapsed": false,
    "microsoft": {
     "language": "python",
     "language_group": "synapse_pyspark"
    }
   },
   "outputs": [
    {
     "data": {
      "application/vnd.livy.statement-meta+json": {
       "execution_finish_time": "2025-10-13T10:33:06.7138761Z",
       "execution_start_time": "2025-10-13T10:33:06.4076171Z",
       "livy_statement_state": "available",
       "normalized_state": "finished",
       "parent_msg_id": "92a3476c-7afc-4d99-b5a7-e0c5cb6008cf",
       "queued_time": "2025-10-13T10:33:06.406299Z",
       "session_id": "f3c606fa-1350-4e6b-beb3-ff06cd72dd01",
       "session_start_time": null,
       "spark_pool": null,
       "state": "finished",
       "statement_id": 4,
       "statement_ids": [
        4
       ]
      },
      "text/plain": [
       "StatementMeta(, f3c606fa-1350-4e6b-beb3-ff06cd72dd01, 4, Finished, Available, Finished)"
      ]
     },
     "metadata": {},
     "output_type": "display_data"
    }
   ],
   "source": [
    "def find_unused_measures(deps_df, report_objects, dataset, report):\n",
    "    \"\"\"\n",
    "    Identifies measures that are not used in reports or referenced by other objects.\n",
    "    \n",
    "    This function performs set operations to find measures that exist in the model\n",
    "    but are neither used in report visualizations nor referenced by other\n",
    "    calculated columns, measures, or DAX expressions.\n",
    "    \n",
    "    Args:\n",
    "        deps_df (pandas.DataFrame): Dependencies dataframe from find_model_dependencies()\n",
    "        report_objects (pandas.DataFrame): Report objects dataframe from find_report_objects()\n",
    "    \n",
    "    Returns:\n",
    "        set: Set of unused measure names that can potentially be removed\n",
    "    \n",
    "    Process:\n",
    "        1. Retrieves all measures using fabric.list_measures()\n",
    "        2. Finds measures referenced in dependencies (Referenced Object Type = 'Measure')\n",
    "        3. Finds measures used in report visuals (Object Type = 'Measure')\n",
    "        4. Returns measures not in either referenced or report sets\n",
    "    \"\"\"\n",
    "    \n",
    "    # GET ALL MEASURES - Complete inventory from semantic model\n",
    "    print(\"  📋 Retrieving all measures from semantic model...\")\n",
    "    measures_df = fabric.list_measures(\n",
    "        dataset=dataset, \n",
    "        workspace=workspace\n",
    "    )\n",
    "\n",
    "    all_measures = set(measures_df['Measure Name'].unique())\n",
    "    print(f\"     └─ Found {len(all_measures)} total measures\")\n",
    "\n",
    "    # GET REFERENCED MEASURES - Used in other calculations\n",
    "    print(\"  🔗 Identifying measures referenced in calculations...\")\n",
    "    referenced_measures = set(\n",
    "        deps_df[deps_df['Referenced Object Type'] == 'Measure']['Referenced Object'].unique()\n",
    "    )\n",
    "    print(f\"     └─ Found {len(referenced_measures)} referenced measures\")\n",
    "\n",
    "    rpt_format = report.format\n",
    "    \n",
    "    if rpt_format != \"PBIR-Legacy\":\n",
    "        # GET MEASURES IN REPORT VISUALS - Actively used in reports\n",
    "        print(\"  📊 Finding measures used in report visualizations...\")\n",
    "        report_measures = set(report_objects[report_objects['Object Type']==\"Measure\"]['Object Name'].unique())\n",
    "        print(f\"     └─ Found {len(report_measures)} measures in reports\")\n",
    "\n",
    "        # CALCULATE USED MEASURES - Union of referenced and report measures\n",
    "        used_measures = report_measures.union(referenced_measures)\n",
    "        print(f\"  ✓ Total used measures: {len(used_measures)}\")\n",
    "    else:\n",
    "        used_measures = referenced_measures.union(all_measures)\n",
    "        print(f\"  ✓ Total used measures: {len(used_measures)}\")\n",
    "\n",
    "    # RETURN UNUSED MEASURES - Set difference operation\n",
    "    unused_measures = all_measures.difference(used_measures)\n",
    "    print(f\"  🎯 Identified {len(unused_measures)} unused measures\")\n",
    "    \n",
    "    # Return both unused measures and metrics for visualization\n",
    "    return unused_measures, {\n",
    "        'total_measures': len(all_measures),\n",
    "        'unused_measures': len(unused_measures),\n",
    "        'used_measures': len(used_measures),\n",
    "        'utilization_rate': (len(used_measures) / len(all_measures)) * 100 if len(all_measures) > 0 else 0\n",
    "    }"
   ]
  },
  {
   "cell_type": "markdown",
   "id": "0a7393ac-2296-4595-99f7-74cb5b007c1d",
   "metadata": {
    "microsoft": {
     "language": "python",
     "language_group": "synapse_pyspark"
    },
    "nteract": {
     "transient": {
      "deleting": false
     }
    }
   },
   "source": [
    "# 📊 Unused Columns Analysis\n",
    "\n",
    "### Process Overview:\n",
    "1. **GET ALL COLUMNS** - Extract complete column inventory from all tables\n",
    "2. **GET REFERENCED COLUMNS** - Find columns referenced in calculations and measures\n",
    "3. **GET COLUMNS USED IN REPORTS** - Identify columns actively used in visualizations\n",
    "\n",
    "### Libraries Used:\n",
    "- `fabric.list_columns()`: Retrieves all columns from the semantic model\n",
    "- Dependencies DataFrame: Filters for Column and Calc Column object types\n",
    "- Report Objects DataFrame: Filters for columns used in visualizations\n",
    "\n",
    "### Analysis Logic:\n",
    "```\n",
    "UNUSED COLUMNS = ALL COLUMNS - (REFERENCED COLUMNS ∪ REPORT COLUMNS)\n",
    "```\n",
    "\n",
    "**A column is considered unused if:**\n",
    "- ❌ Not used in any report visualizations (filters, axes, legends, values)\n",
    "- ❌ Not referenced by calculated columns or measures\n",
    "- ❌ Not used in relationships (foreign/primary keys)\n",
    "- ❌ Not used in row-level security expressions\n",
    "---"
   ]
  },
  {
   "cell_type": "code",
   "execution_count": 25,
   "id": "dd45248e-af7f-4cc8-9f04-b0b2d2c4b511",
   "metadata": {
    "collapsed": false,
    "microsoft": {
     "language": "python",
     "language_group": "synapse_pyspark"
    }
   },
   "outputs": [
    {
     "data": {
      "application/vnd.livy.statement-meta+json": {
       "execution_finish_time": "2025-10-07T17:42:44.2177726Z",
       "execution_start_time": "2025-10-07T17:42:43.8358242Z",
       "livy_statement_state": "available",
       "normalized_state": "finished",
       "parent_msg_id": "fc027173-a141-4590-9e07-0a178e505280",
       "queued_time": "2025-10-07T17:42:43.8345757Z",
       "session_id": "93f85b5c-abfa-466c-8471-38ca6633b301",
       "session_start_time": null,
       "spark_pool": null,
       "state": "finished",
       "statement_id": 27,
       "statement_ids": [
        27
       ]
      },
      "text/plain": [
       "StatementMeta(, 93f85b5c-abfa-466c-8471-38ca6633b301, 27, Finished, Available, Finished)"
      ]
     },
     "metadata": {},
     "output_type": "display_data"
    }
   ],
   "source": [
    "def get_unused_columns(deps_df, report_objects, dataset, workspace):\n",
    "    \"\"\"\n",
    "    Identifies columns that are not used in reports or referenced by other objects.\n",
    "    \n",
    "    This function analyzes both regular columns and calculated columns to determine\n",
    "    which ones are not being utilized in the semantic model or reports.\n",
    "    \n",
    "    Args:\n",
    "        deps_df (pandas.DataFrame): Dependencies dataframe from find_model_dependencies()\n",
    "        report_objects (pandas.DataFrame): Report objects dataframe from find_report_objects()\n",
    "    \n",
    "    Returns:\n",
    "        set: Set of unused column names that can potentially be removed\n",
    "    \n",
    "    Process:\n",
    "        1. Retrieves all columns using fabric.list_columns()\n",
    "        2. Finds columns referenced in dependencies (both Column and Calc Column types)\n",
    "        3. Finds columns used in report visuals\n",
    "        4. Returns columns not in either referenced or report sets\n",
    "    \"\"\"\n",
    "    \n",
    "    # GET ALL COLUMNS - Complete inventory from all tables\n",
    "    print(\"  📋 Retrieving all columns from semantic model...\")\n",
    "    columns_df = fabric.list_columns(\n",
    "        dataset=dataset, \n",
    "        workspace=workspace\n",
    "        )\n",
    "    all_columns = set(columns_df['Column Name'].unique())\n",
    "    print(f\"     └─ Found {len(all_columns)} total columns across all tables\")\n",
    "\n",
    "    # GET REFERENCED COLUMNS - Used in calculations\n",
    "    print(\"  🔗 Identifying columns referenced in calculations...\")\n",
    "    col_object_types = [\"Column\", \"Calc Column\"]  # Include both regular and calculated columns\n",
    "    referenced_columns = set(\n",
    "        deps_df[deps_df['Referenced Object Type'].isin(col_object_types)]['Referenced Object'].unique()\n",
    "    )\n",
    "    print(f\"     └─ Found {len(referenced_columns)} referenced columns\")\n",
    "\n",
    "    # GET COLUMNS USED DIRECTLY IN REPORTS - Active in visualizations\n",
    "    print(\"  📊 Finding columns used in report visualizations...\")\n",
    "    report_columns = set(report_objects[report_objects['Object Type'] == \"Column\"]['Object Name'].unique())\n",
    "    print(f\"     └─ Found {len(report_columns)} columns in reports\")\n",
    "\n",
    "    # CALCULATE USED COLUMNS - Union of referenced and report columns\n",
    "    used_columns = report_columns.union(referenced_columns)\n",
    "    print(f\"  ✓ Total used columns: {len(used_columns)}\")\n",
    "\n",
    "    # RETURN UNUSED COLUMNS - Set difference operation\n",
    "    unused_columns = all_columns.difference(used_columns)\n",
    "    print(f\"  🎯 Identified {len(unused_columns)} unused columns\")\n",
    "    \n",
    "    return unused_columns"
   ]
  },
  {
   "cell_type": "markdown",
   "id": "1626453a-c21e-4e6f-8b4a-470382bddc30",
   "metadata": {
    "microsoft": {
     "language": "python",
     "language_group": "synapse_pyspark"
    },
    "nteract": {
     "transient": {
      "deleting": false
     }
    }
   },
   "source": [
    "# 🗃️ Unused Tables Analysis\n",
    "\n",
    "### Process Overview:\n",
    "1. **GET ALL TABLES** - Extract complete table inventory from the semantic model\n",
    "2. **GET REFERENCED TABLES** - Find tables referenced in calculations and measures\n",
    "3. **GET TABLES USED IN REPORTS** - Identify tables with objects used in visualizations\n",
    "\n",
    "### Libraries Used:\n",
    "- `fabric.list_tables()`: Retrieves all tables from the semantic model\n",
    "- Dependencies DataFrame: Extracts Referenced Table column values\n",
    "- Report Objects DataFrame: Extracts Table Name column values\n",
    "\n",
    "### Analysis Logic:\n",
    "```\n",
    "UNUSED TABLES = ALL TABLES - (REFERENCED TABLES ∪ REPORT TABLES)\n",
    "```\n",
    "\n",
    "**A table is considered unused if:**\n",
    "- ❌ No columns from the table are used in report visualizations\n",
    "- ❌ No measures reference columns from this table\n",
    "- ❌ No calculated columns reference this table\n",
    "- ❌ No relationships connect this table to active parts of the model\n",
    "\n",
    "---"
   ]
  },
  {
   "cell_type": "code",
   "execution_count": 26,
   "id": "3482f37d-02a7-4f17-ae2a-552c9de50971",
   "metadata": {
    "collapsed": false,
    "microsoft": {
     "language": "python",
     "language_group": "synapse_pyspark"
    }
   },
   "outputs": [
    {
     "data": {
      "application/vnd.livy.statement-meta+json": {
       "execution_finish_time": "2025-10-07T17:42:52.1124609Z",
       "execution_start_time": "2025-10-07T17:42:51.7410368Z",
       "livy_statement_state": "available",
       "normalized_state": "finished",
       "parent_msg_id": "d66cde7d-18b5-4640-b1ad-095ba562abf7",
       "queued_time": "2025-10-07T17:42:51.7397595Z",
       "session_id": "93f85b5c-abfa-466c-8471-38ca6633b301",
       "session_start_time": null,
       "spark_pool": null,
       "state": "finished",
       "statement_id": 28,
       "statement_ids": [
        28
       ]
      },
      "text/plain": [
       "StatementMeta(, 93f85b5c-abfa-466c-8471-38ca6633b301, 28, Finished, Available, Finished)"
      ]
     },
     "metadata": {},
     "output_type": "display_data"
    }
   ],
   "source": [
    "def get_unused_tables(deps_df, report_objects, dataset, workspace):\n",
    "    \"\"\"\n",
    "    Identifies tables that are not used in reports or referenced by other objects.\n",
    "    \n",
    "    This function analyzes table usage across the entire semantic model to identify\n",
    "    tables that have no active references or report usage.\n",
    "    \n",
    "    Args:\n",
    "        deps_df (pandas.DataFrame): Dependencies dataframe from find_model_dependencies()\n",
    "        report_objects (pandas.DataFrame): Report objects dataframe from find_report_objects()\n",
    "    \n",
    "    Returns:\n",
    "        set: Set of unused table names that can potentially be removed\n",
    "    \n",
    "    Process:\n",
    "        1. Retrieves all tables using fabric.list_tables()\n",
    "        2. Finds tables referenced in dependencies (Referenced Table column)\n",
    "        3. Finds tables with objects used in report visuals (Table Name column)\n",
    "        4. Returns tables not in either referenced or report sets\n",
    "    \n",
    "    Warning:\n",
    "        Exercise extreme caution when removing tables. Verify relationships\n",
    "        and external dependencies before deletion.\n",
    "    \"\"\"\n",
    "    \n",
    "    # GET ALL TABLES - Complete inventory from semantic model\n",
    "    print(\"  📋 Retrieving all tables from semantic model...\")\n",
    "    tables_df = fabric.list_tables(\n",
    "        dataset=dataset, \n",
    "        workspace=workspace\n",
    "    )\n",
    "    all_tables = set(tables_df['Name'].unique())\n",
    "    print(f\"     └─ Found {len(all_tables)} total tables\")\n",
    "\n",
    "    # GET REFERENCED TABLES - Used in calculations\n",
    "    print(\"  🔗 Identifying tables referenced in calculations...\")\n",
    "    referenced_tables = set(\n",
    "        deps_df['Referenced Table'].dropna().unique()\n",
    "    )\n",
    "    print(f\"     └─ Found {len(referenced_tables)} referenced tables\")\n",
    "\n",
    "    # GET TABLES USED DIRECTLY IN REPORTS - Have objects in visualizations\n",
    "    print(\"  📊 Finding tables with objects used in reports...\")\n",
    "    report_tables = set(\n",
    "        report_objects['Table Name'].unique()\n",
    "    )\n",
    "    print(f\"     └─ Found {len(report_tables)} tables used in reports\")\n",
    "\n",
    "    # CALCULATE USED TABLES - Union of referenced and report tables\n",
    "    used_tables = referenced_tables.union(report_tables)\n",
    "    print(f\"  ✓ Total used tables: {len(used_tables)}\")\n",
    "\n",
    "    # RETURN UNUSED TABLES - Set difference operation\n",
    "    unused_tables = all_tables.difference(used_tables)\n",
    "    print(f\"  🎯 Identified {len(unused_tables)} unused tables\")\n",
    "    \n",
    "    return unused_tables"
   ]
  },
  {
   "cell_type": "markdown",
   "id": "main-function-header",
   "metadata": {
    "microsoft": {
     "language": "python",
     "language_group": "synapse_pyspark"
    },
    "nteract": {
     "transient": {
      "deleting": false
     }
    }
   },
   "source": [
    "# 🚀 Complete Model Analysis Execution\n",
    "\n",
    "## Main Analysis Function\n",
    "\n",
    "The `run_complete_analysis()` function executes all analysis steps in sequence:\n",
    "1. **Data Preparation** - Gathers dependencies and report objects\n",
    "2. **Measures Analysis** - Identifies unused measures with visualization\n",
    "3. **Columns Analysis** - Finds unused columns with categorization\n",
    "4. **Tables Analysis** - Locates unused tables with warnings\n",
    "5. **Relationships Analysis** - Reviews model relationships\n",
    "6. **Dual Visualization** - Shows measures AND columns side-by-side\n",
    "7. **Summary Report** - Provides optimization recommendations\n",
    "\n",
    "**Benefits of using the main function:**\n",
    "- All results displayed in a single output\n",
    "- Consistent execution flow\n",
    "- Easy to track progress\n",
    "- Professional reporting format\n",
    "- Side-by-side visualization of measures and columns\n",
    "\n",
    "---"
   ]
  },
  {
   "cell_type": "code",
   "execution_count": 27,
   "id": "main-analysis-function",
   "metadata": {
    "microsoft": {
     "language": "python",
     "language_group": "synapse_pyspark"
    }
   },
   "outputs": [
    {
     "data": {
      "application/vnd.livy.statement-meta+json": {
       "execution_finish_time": "2025-10-07T17:42:58.5734327Z",
       "execution_start_time": "2025-10-07T17:42:58.2420644Z",
       "livy_statement_state": "available",
       "normalized_state": "finished",
       "parent_msg_id": "b4832f9f-16af-4fa0-ad25-1594d55a783c",
       "queued_time": "2025-10-07T17:42:58.2407132Z",
       "session_id": "93f85b5c-abfa-466c-8471-38ca6633b301",
       "session_start_time": null,
       "spark_pool": null,
       "state": "finished",
       "statement_id": 29,
       "statement_ids": [
        29
       ]
      },
      "text/plain": [
       "StatementMeta(, 93f85b5c-abfa-466c-8471-38ca6633b301, 29, Finished, Available, Finished)"
      ]
     },
     "metadata": {},
     "output_type": "display_data"
    }
   ],
   "source": [
    "def run_complete_analysis(dataset, workspace, report):\n",
    "    \"\"\"\n",
    "    Execute complete Fabric semantic model analysis.\n",
    "    \n",
    "    This main function orchestrates all analysis steps:\n",
    "    1. Data preparation (dependencies and report objects)\n",
    "    2. Unused measures analysis with visualization\n",
    "    3. Unused columns analysis with categorization\n",
    "    4. Unused tables analysis with warnings\n",
    "    5. Relationships analysis for validation\n",
    "    6. Dual visualization (measures + columns charts)\n",
    "    7. Summary report with recommendations\n",
    "    \n",
    "    Returns:\n",
    "        dict: Complete analysis results with all metrics and findings\n",
    "    \"\"\"\n",
    "    \n",
    "    print('🚀' + '=' * 70)\n",
    "    print(\"🎯 FABRIC SEMANTIC MODEL OPTIMIZATION ANALYSIS\")\n",
    "    print(\"=\" * 72)\n",
    "    print(f\"📊 Workspace: {workspace}\")\n",
    "    print(f\"📈 Dataset: {dataset}\")\n",
    "    print(\"=\" * 72)\n",
    "\n",
    "\n",
    "    \n",
    "    # STEP 1: DATA PREPARATION\n",
    "    print(\"📋 STEP 1: DATA PREPARATION\")\n",
    "    print(\"-\" * 40)\n",
    "    print(\"📊 Retrieving model dependencies...\")\n",
    "    dependencies_df = find_model_dependencies(workspace=workspace)\n",
    "    \n",
    "    print(\"📈 Analyzing report object usage...\")\n",
    "    report_objects = find_report_objects(workspace=workspace, report=report)\n",
    "    \n",
    "    print(f\"✅ Found {len(dependencies_df)} dependency relationships\")\n",
    "    print(f\"✅ Found {len(report_objects)} objects used in reports\\n\")\n",
    "    \n",
    "    # STEP 2: MEASURES ANALYSIS\n",
    "    print(\"🎯 STEP 2: UNUSED MEASURES ANALYSIS\")\n",
    "    print(\"-\" * 40)\n",
    "    unused_measures, measures_metrics = find_unused_measures(dependencies_df, report_objects,dataset=dataset)\n",
    "    \n",
    "    # Display measures results\n",
    "    if unused_measures:\n",
    "        print(\"\\nUnused measures that can be removed:\")\n",
    "        for i, measure in enumerate(sorted(unused_measures), 1):\n",
    "            print(f\"  {i:2d}. {measure}\")\n",
    "    else:\n",
    "        print(\"✅ EXCELLENT! No unused measures found.\")\n",
    "    \n",
    "    print(f\"📊 Measures Summary: {measures_metrics['used_measures']}/{measures_metrics['total_measures']} used ({measures_metrics['utilization_rate']:.1f}% utilization)\\n\")\n",
    "    \n",
    "    # STEP 3: COLUMNS ANALYSIS\n",
    "    print(\"📊 STEP 3: UNUSED COLUMNS ANALYSIS\")\n",
    "    print(\"-\" * 40)\n",
    "    unused_columns = get_unused_columns(dependencies_df, report_objects,dataset=dataset)\n",
    "    \n",
    "    # Categorize and display columns results\n",
    "    if unused_columns:\n",
    "        \n",
    "        # Group columns by category\n",
    "        date_cols = [col for col in unused_columns if any(x in col.lower() for x in ['date', 'week', 'month', 'quarter', 'year', 'day'])]\n",
    "        financial_cols = [col for col in unused_columns if any(x in col.lower() for x in ['cost', 'sales', 'profit', 'amount', 'balance', 'vat'])]\n",
    "        other_cols = [col for col in unused_columns if col not in date_cols + financial_cols]\n",
    "        \n",
    "        if date_cols:\n",
    "            print(f\"\\n📅 Date/Time Columns ({len(date_cols)}):\")\n",
    "            for col in sorted(date_cols)[:5]: print(f\"   • {col}\")\n",
    "            if len(date_cols) > 5: print(f\"   ... and {len(date_cols)-5} more\")\n",
    "        \n",
    "        if financial_cols:\n",
    "            print(f\"\\n💰 Financial Columns ({len(financial_cols)}):\")\n",
    "            for col in sorted(financial_cols): print(f\"   • {col}\")\n",
    "        \n",
    "        if other_cols:\n",
    "            print(f\"\\n🔧 Other Columns ({len(other_cols)}):\")\n",
    "            for col in sorted(other_cols)[:5]: print(f\"   • {col}\")\n",
    "            if len(other_cols) > 5: print(f\"   ... and {len(other_cols)-5} more\")\n",
    "    else:\n",
    "        print(\"✅ No unused columns found.\")\n",
    "    \n",
    "    total_columns = len(fabric.list_columns(dataset=dataset, workspace=workspace))\n",
    "    columns_utilization = ((total_columns - len(unused_columns)) / total_columns * 100) if total_columns > 0 else 0\n",
    "    print(f\"📊 Columns Summary: {total_columns - len(unused_columns)}/{total_columns} used ({columns_utilization:.1f}% utilization)\\n\")\n",
    "    \n",
    "    # STEP 4: TABLES ANALYSIS\n",
    "    print(\"🗃️ STEP 4: UNUSED TABLES ANALYSIS\")\n",
    "    print(\"-\" * 40)\n",
    "    unused_tables = get_unused_tables(dependencies_df, report_objects,dataset=dataset)\n",
    "    \n",
    "    # Display tables results with warnings\n",
    "    if unused_tables:\n",
    "        print(\"\\nPotentially unused tables:\")\n",
    "        for i, table in enumerate(sorted(unused_tables), 1):\n",
    "            print(f\"  {i:2d}. {table}\")\n",
    "    else:\n",
    "        print(\"✅ No unused tables found.\")\n",
    "    \n",
    "    total_tables = len(fabric.list_tables(dataset=dataset, workspace=workspace))\n",
    "    tables_utilization = ((total_tables - len(unused_tables)) / total_tables * 100) if total_tables > 0 else 0\n",
    "    print(f\"📊 Tables Summary: {total_tables - len(unused_tables)}/{total_tables} used ({tables_utilization:.1f}% utilization)\\n\")\n",
    "    \n",
    "    # STEP 5: RELATIONSHIPS ANALYSIS\n",
    "    print(\"🔗 STEP 5: RELATIONSHIPS ANALYSIS\")\n",
    "    # Analyze model relationships to understand table dependencies\n",
    "    print(\"=\" * 50)\n",
    "\n",
    "    # GET ALL RELATIONSHIPS with extended properties\n",
    "    relationships_df = fabric.list_relationships(\n",
    "        workspace = workspace,\n",
    "        dataset = dataset,\n",
    "        extended=True  # Include cardinality and other extended properties\n",
    "    )\n",
    "\n",
    "    print(f\"📊 Found {len(relationships_df)} relationships in the model\")\n",
    "\n",
    "    # Analyze relationship patterns\n",
    "    active_relationships = relationships_df[relationships_df['Active'] == True]\n",
    "    inactive_relationships = relationships_df[relationships_df['Active'] == False]\n",
    "\n",
    "    print(f\"✅ Active relationships: {len(active_relationships)}\")\n",
    "    print(f\"❌ Inactive relationships: {len(inactive_relationships)}\")\n",
    "\n",
    "    # Get unique tables involved in relationships\n",
    "    tables_in_relationships = set(relationships_df['From Table'].unique()) | set(relationships_df['To Table'].unique())\n",
    "    print(f\"🗃️  Tables involved in relationships: {len(tables_in_relationships)}\")\n",
    "\n",
    "    # Cross-reference with unused tables\n",
    "    if unused_tables:\n",
    "        unused_tables_with_relationships = unused_tables.intersection(tables_in_relationships)\n",
    "        if unused_tables_with_relationships:\n",
    "            print(f\"\\n⚠️  WARNING: {len(unused_tables_with_relationships)} unused tables have relationships!\")\n",
    "            print(\"   These tables should be reviewed carefully:\")\n",
    "            for table in sorted(unused_tables_with_relationships):\n",
    "                print(f\"     • {table}\")\n",
    "        else:\n",
    "            print(\"\\n✅ No unused tables have active relationships - safer to remove\")\n",
    "\n",
    "    print(\"\\n📋 Relationship Summary Table:\")\n",
    "    display(relationships_df)\n",
    "    print()\n",
    "    \n",
    "    # STEP 6: ENHANCED DUAL VISUALIZATION\n",
    "    print(\"📈 STEP 6: GENERATING DUAL VISUALIZATIONS\")\n",
    "    print(\"-\" * 40)\n",
    "    \n",
    "    # Create side-by-side visualizations for measures and columns\n",
    "    fig, (ax1, ax2) = plt.subplots(1, 2, figsize=(16, 7))\n",
    "    \n",
    "    # MEASURES CHART (Left)\n",
    "    measures_labels = ['Used', 'Unused']\n",
    "    measures_values = [measures_metrics['used_measures'], measures_metrics['unused_measures']]\n",
    "    measures_colors = ['#28a745', '#dc3545']  # Green for used, red for unused\n",
    "    \n",
    "    bars1 = ax1.bar(measures_labels, measures_values, color=measures_colors, alpha=0.8, \n",
    "                     edgecolor='black', linewidth=1)\n",
    "    \n",
    "    # Add value labels on measures bars\n",
    "    for i, bar in enumerate(bars1):\n",
    "        height = bar.get_height()\n",
    "        percentage = (measures_values[i] / measures_metrics['total_measures']) * 100\n",
    "        ax1.annotate(f'{int(height)}\\n({percentage:.1f}%)',\n",
    "                     xy=(bar.get_x() + bar.get_width()/2, height),\n",
    "                     xytext=(0, 5),\n",
    "                     textcoords=\"offset points\",\n",
    "                     ha='center', va='bottom', \n",
    "                     fontsize=12, fontweight='bold')\n",
    "    \n",
    "    # Customize measures chart\n",
    "    ax1.set_ylabel('Number of Measures', fontsize=13, fontweight='bold')\n",
    "    ax1.set_title(f'🎯 Measures Analysis\\nTotal: {measures_metrics[\"total_measures\"]} | Utilization: {measures_metrics[\"utilization_rate\"]:.1f}%',\n",
    "                  fontsize=14, fontweight='bold', pad=15)\n",
    "    ax1.set_ylim(0, max(measures_values) * 1.3)\n",
    "    ax1.grid(axis='y', alpha=0.3, linestyle='--')\n",
    "    ax1.set_axisbelow(True)\n",
    "    \n",
    "    # COLUMNS CHART (Right)\n",
    "    used_columns = total_columns - len(unused_columns)\n",
    "    columns_labels = ['Used', 'Unused']\n",
    "    columns_values = [used_columns, len(unused_columns)]\n",
    "    columns_colors = ['#17a2b8', '#fd7e14']  # Blue for used, orange for unused\n",
    "    \n",
    "    bars2 = ax2.bar(columns_labels, columns_values, color=columns_colors, alpha=0.8, \n",
    "                     edgecolor='black', linewidth=1)\n",
    "    \n",
    "    # Add value labels on columns bars\n",
    "    for i, bar in enumerate(bars2):\n",
    "        height = bar.get_height()\n",
    "        percentage = (columns_values[i] / total_columns) * 100 if total_columns > 0 else 0\n",
    "        ax2.annotate(f'{int(height)}\\n({percentage:.1f}%)',\n",
    "                     xy=(bar.get_x() + bar.get_width()/2, height),\n",
    "                     xytext=(0, 5),\n",
    "                     textcoords=\"offset points\",\n",
    "                     ha='center', va='bottom', \n",
    "                     fontsize=12, fontweight='bold')\n",
    "    \n",
    "    # Customize columns chart\n",
    "    ax2.set_ylabel('Number of Columns', fontsize=13, fontweight='bold')\n",
    "    ax2.set_title(f'📊 Columns Analysis\\nTotal: {total_columns} | Utilization: {columns_utilization:.1f}%',\n",
    "                  fontsize=14, fontweight='bold', pad=15)\n",
    "    ax2.set_ylim(0, max(columns_values) * 1.3 if columns_values else 1)\n",
    "    ax2.grid(axis='y', alpha=0.3, linestyle='--')\n",
    "    ax2.set_axisbelow(True)\n",
    "    \n",
    "    # Overall chart formatting\n",
    "    # fig.suptitle(f'🚀 {dataset} - Model Optimization Analysis', \n",
    "    #              fontsize=16, fontweight='bold', y=0.95)\n",
    "    \n",
    "    # Style both charts\n",
    "    for ax in [ax1, ax2]:\n",
    "        ax.tick_params(axis='x', labelsize=12)\n",
    "        ax.tick_params(axis='y', labelsize=11)\n",
    "    \n",
    "    plt.tight_layout()\n",
    "    plt.subplots_adjust(top=0.85)  # Make room for main title\n",
    "    plt.show()\n",
    "    \n",
    "    \n",
    "    # FINAL SUMMARY\n",
    "    print(\"\\n\" + \"=\" * 72)\n",
    "    print(\"🎯 ANALYSIS COMPLETE - OPTIMIZATION SUMMARY\")\n",
    "    print(\"=\" * 72)\n",
    "    print(f\"📊 Measures: {measures_metrics['unused_measures']}/{measures_metrics['total_measures']} unused ({100-measures_metrics['utilization_rate']:.1f}%)\")\n",
    "    print(f\"📊 Columns:  {len(unused_columns)}/{total_columns} unused ({100-columns_utilization:.1f}%)\")\n",
    "    print(f\"📊 Tables:   {len(unused_tables)}/{total_tables} unused ({100-tables_utilization:.1f}%)\")\n",
    "    print(f\"📊 Relationships: {len(active_relationships)} active, {len(inactive_relationships)} inactive\")\n",
    "    \n",
    "    total_unused_objects = len(unused_measures) + len(unused_columns) + len(unused_tables)\n",
    "\n",
    "    \n",
    "    print(\"=\" * 72)\n",
    "    print(\"🚀 Analysis completed successfully!\")\n",
    "    print(\"=\" * 72)\n",
    "    \n",
    "    # Return results for further processing if needed\n",
    "    return {\n",
    "        'unused_measures': unused_measures,\n",
    "        'unused_columns': unused_columns,\n",
    "        'unused_tables': unused_tables,\n",
    "        'measures_metrics': measures_metrics,\n",
    "        'columns_metrics': {'total': total_columns, 'unused': len(unused_columns), 'utilization': columns_utilization},\n",
    "        'tables_metrics': {'total': total_tables, 'unused': len(unused_tables), 'utilization': tables_utilization},\n",
    "        'relationships_df': relationships_df,\n",
    "        'dependencies_df': dependencies_df,\n",
    "        'report_objects': report_objects\n",
    "    }"
   ]
  },
  {
   "cell_type": "markdown",
   "id": "execution-instructions",
   "metadata": {
    "microsoft": {
     "language": "python",
     "language_group": "synapse_pyspark"
    },
    "nteract": {
     "transient": {
      "deleting": false
     }
    }
   },
   "source": [
    "## 🎬 Execute Complete Analysis\n",
    "\n",
    "Run the cell below to execute the complete semantic model analysis.\n",
    "All results will be displayed in a single, organized output with dual visualization."
   ]
  },
  {
   "cell_type": "code",
   "execution_count": 27,
   "id": "main-execution-cell",
   "metadata": {
    "collapsed": false,
    "microsoft": {
     "language": "python",
     "language_group": "synapse_pyspark"
    }
   },
   "outputs": [
    {
     "data": {
      "application/vnd.livy.statement-meta+json": {
       "execution_finish_time": "2025-10-07T00:43:17.8774258Z",
       "execution_start_time": "2025-10-07T00:43:09.8548217Z",
       "livy_statement_state": "available",
       "normalized_state": "finished",
       "parent_msg_id": "8bb1f006-b166-4c62-aa25-7fa319703c1a",
       "queued_time": "2025-10-07T00:43:09.8537724Z",
       "session_id": "4105d4ac-1217-43e5-a11d-5185e45ab247",
       "session_start_time": null,
       "spark_pool": null,
       "state": "finished",
       "statement_id": 29,
       "statement_ids": [
        29
       ]
      },
      "text/plain": [
       "StatementMeta(, 4105d4ac-1217-43e5-a11d-5185e45ab247, 29, Finished, Available, Finished)"
      ]
     },
     "metadata": {},
     "output_type": "display_data"
    },
    {
     "name": "stdout",
     "output_type": "stream",
     "text": [
      "🚀======================================================================\n",
      "🎯 FABRIC SEMANTIC MODEL OPTIMIZATION ANALYSIS\n",
      "========================================================================\n",
      "📊 Workspace: Test Workspace\n",
      "📈 Dataset: New Waziri Dashboard Report\n",
      "========================================================================\n",
      "📋 STEP 1: DATA PREPARATION\n",
      "----------------------------------------\n",
      "📊 Retrieving model dependencies...\n",
      "📈 Analyzing report object usage...\n",
      "✅ Found 244 dependency relationships\n",
      "✅ Found 135 objects used in reports\n",
      "\n",
      "🎯 STEP 2: UNUSED MEASURES ANALYSIS\n",
      "----------------------------------------\n",
      "  📋 Retrieving all measures from semantic model...\n",
      "     └─ Found 19 total measures\n",
      "  🔗 Identifying measures referenced in calculations...\n",
      "     └─ Found 4 referenced measures\n",
      "  📊 Finding measures used in report visualizations...\n",
      "     └─ Found 11 measures in reports\n",
      "  ✓ Total used measures: 14\n",
      "  🎯 Identified 5 unused measures\n",
      "\n",
      "Unused measures that can be removed:\n",
      "   1. Cash Sales\n",
      "   2. Credit Sales\n",
      "   3. Selected Date\n",
      "   4. Total Cost\n",
      "   5. Total Sales Title\n",
      "📊 Measures Summary: 14/19 used (73.7% utilization)\n",
      "\n",
      "📊 STEP 3: UNUSED COLUMNS ANALYSIS\n",
      "----------------------------------------\n",
      "  📋 Retrieving all columns from semantic model...\n",
      "     └─ Found 95 total columns across all tables\n",
      "  🔗 Identifying columns referenced in calculations...\n",
      "     └─ Found 19 referenced columns\n",
      "  📊 Finding columns used in report visualizations...\n",
      "     └─ Found 11 columns in reports\n",
      "  ✓ Total used columns: 26\n",
      "  🎯 Identified 71 unused columns\n",
      "\n",
      "📅 Date/Time Columns (38):\n",
      "   • CurrDayOffset\n",
      "   • CurrQuarterOffset\n",
      "   • DateInt\n",
      "   • Day Type\n",
      "   • Day of Week Initial\n",
      "   ... and 33 more\n",
      "\n",
      "💰 Financial Columns (6):\n",
      "   • amount\n",
      "   • balance\n",
      "   • profit%\n",
      "   • stock balance\n",
      "   • unit cost\n",
      "   • vat\n",
      "\n",
      "🔧 Other Columns (27):\n",
      "   • IsCurrentFY\n",
      "   • IsPFYTD\n",
      "   • IsPYTD\n",
      "   • MIK\n",
      "   • Value\n",
      "   ... and 22 more\n",
      "📊 Columns Summary: 56/127 used (44.1% utilization)\n",
      "\n",
      "🗃️ STEP 4: UNUSED TABLES ANALYSIS\n",
      "----------------------------------------\n",
      "  📋 Retrieving all tables from semantic model...\n",
      "     └─ Found 17 total tables\n",
      "  🔗 Identifying tables referenced in calculations...\n",
      "     └─ Found 14 referenced tables\n",
      "  📊 Finding tables with objects used in reports...\n",
      "     └─ Found 11 tables used in reports\n",
      "  ✓ Total used tables: 20\n",
      "  🎯 Identified 1 unused tables\n",
      "\n",
      "Potentially unused tables:\n",
      "   1. waz_item_make\n",
      "📊 Tables Summary: 16/17 used (94.1% utilization)\n",
      "\n",
      "🔗 STEP 5: RELATIONSHIPS ANALYSIS\n",
      "==================================================\n",
      "📊 Found 9 relationships in the model\n",
      "✅ Active relationships: 8\n",
      "❌ Inactive relationships: 1\n",
      "🗃️  Tables involved in relationships: 11\n",
      "\n",
      "✅ No unused tables have active relationships - safer to remove\n",
      "\n",
      "📋 Relationship Summary Table:\n"
     ]
    },
    {
     "data": {
      "application/vnd.synapse.widget-view+json": {
       "widget_id": "135b22b8-7a77-4bef-adbd-e54901a61955",
       "widget_type": "Synapse.DataFrame"
      },
      "text/plain": [
       "SynapseWidget(Synapse.DataFrame, 135b22b8-7a77-4bef-adbd-e54901a61955)"
      ]
     },
     "metadata": {},
     "output_type": "display_data"
    },
    {
     "name": "stderr",
     "output_type": "stream",
     "text": [
      "/tmp/ipykernel_5981/1840017056.py:215: UserWarning: Glyph 127919 (\\N{DIRECT HIT}) missing from current font.\n",
      "  plt.tight_layout()\n",
      "/tmp/ipykernel_5981/1840017056.py:215: UserWarning: Glyph 128202 (\\N{BAR CHART}) missing from current font.\n",
      "  plt.tight_layout()\n",
      "/home/trusted-service-user/cluster-env/trident_env/lib/python3.11/site-packages/IPython/core/pylabtools.py:152: UserWarning: Glyph 127919 (\\N{DIRECT HIT}) missing from current font.\n",
      "  fig.canvas.print_figure(bytes_io, **kw)\n",
      "/home/trusted-service-user/cluster-env/trident_env/lib/python3.11/site-packages/IPython/core/pylabtools.py:152: UserWarning: Glyph 128202 (\\N{BAR CHART}) missing from current font.\n",
      "  fig.canvas.print_figure(bytes_io, **kw)\n"
     ]
    },
    {
     "data": {
      "image/png": "[encoded data removed]",
      "text/plain": [
       "<Figure size 1600x700 with 2 Axes>"
      ]
     },
     "metadata": {},
     "output_type": "display_data"
    },
    {
     "name": "stdout",
     "output_type": "stream",
     "text": [
      "\n",
      "========================================================================\n",
      "🎯 ANALYSIS COMPLETE - OPTIMIZATION SUMMARY\n",
      "========================================================================\n",
      "📊 Measures: 5/19 unused (26.3%)\n",
      "📊 Columns:  71/127 unused (55.9%)\n",
      "📊 Tables:   1/17 unused (5.9%)\n",
      "📊 Relationships: 8 active, 1 inactive\n",
      "========================================================================\n",
      "🚀 Analysis completed successfully!\n",
      "========================================================================\n"
     ]
    }
   ],
   "source": [
    "# 🚀 EXECUTE COMPLETE ANALYSIS WITH DUAL VISUALIZATION\n",
    "# Run this cell to perform comprehensive semantic model analysis\n",
    "# Features dual charts showing both measures and columns utilization\n",
    "\n",
    "analysis_results = run_complete_analysis(dataset, workspace, report)"
   ]
  }
 ],
 "metadata": {
  "dependencies": {
   "lakehouse": {
    "default_lakehouse": "b688d372-651f-4ab4-8a7a-9c8b0587b8a1",
    "default_lakehouse_name": "Scan_Results",
    "default_lakehouse_workspace_id": "32bcf9c2-9d7d-4857-9188-ef29efac3a3b",
    "known_lakehouses": [
     {
      "id": "b688d372-651f-4ab4-8a7a-9c8b0587b8a1"
     }
    ]
   }
  },
  "kernel_info": {
   "name": "synapse_pyspark"
  },
  "kernelspec": {
   "display_name": "Synapse PySpark",
   "language": "Python",
   "name": "synapse_pyspark"
  },
  "language_info": {
   "name": "python"
  },
  "microsoft": {
   "language": "python",
   "language_group": "synapse_pyspark",
   "ms_spell_check": {
    "ms_spell_check_language": "en"
   }
  },
  "nteract": {
   "version": "nteract-front-end@1.0.0"
  },
  "spark_compute": {
   "compute_id": "/trident/default",
   "session_options": {
    "conf": {
     "spark.synapse.nbs.session.timeout": "1200000"
    }
   }
  },
  "synapse_widget": {
   "state": {
    "135b22b8-7a77-4bef-adbd-e54901a61955": {
     "persist_state": {
      "view": {
       "chartOptions": {
        "aggregationType": "sum",
        "binsNumber": 10,
        "categoryFieldKeys": [],
        "chartType": "bar",
        "isStacked": false,
        "seriesFieldKeys": [],
        "wordFrequency": "-1"
       },
       "tableOptions": {},
       "type": "details",
       "viewOptionsGroup": [
        {
         "tabItems": [
          {
           "key": "0",
           "name": "Table",
           "options": {},
           "type": "table"
          }
         ]
        }
       ]
      }
     },
     "sync_state": {
      "isSummary": false,
      "language": "python",
      "table": {
       "rows": [
        {
         "0": "m:1",
         "1": "Sales",
         "2": "date",
         "3": "LocalDateTable_ee40366b-f8fa-46c1-a0aa-20db619bcf17",
         "4": "Date",
         "5": true,
         "6": "OneDirection",
         "7": "OneDirection",
         "8": "DatePartOnly",
         "9": false,
         "10": "Ready",
         "11": "2025-08-29 09:36:10",
         "12": "25bbddae-945a-4c67-974f-f35073458e00",
         "13": "1740",
         "14": null,
         "15": "2792",
         "index": 0,
         "key": 0
        },
        {
         "0": "m:1",
         "1": "waz_stock_movement",
         "2": "date",
         "3": "LocalDateTable_6342b19c-5456-4a79-98a6-fd9a5025ceda",
         "4": "Date",
         "5": true,
         "6": "OneDirection",
         "7": "OneDirection",
         "8": "DatePartOnly",
         "9": false,
         "10": "Ready",
         "11": "2025-08-29 09:36:10",
         "12": "694767a7-0d52-4a74-a8b4-ac07396cbb81",
         "13": "301",
         "14": null,
         "15": "488",
         "index": 1,
         "key": 1
        },
        {
         "0": "m:1",
         "1": "Payments",
         "2": "date",
         "3": "LocalDateTable_039beab2-6ebe-415d-b0cb-70b10b1651f4",
         "4": "Date",
         "5": true,
         "6": "OneDirection",
         "7": "OneDirection",
         "8": "DatePartOnly",
         "9": false,
         "10": "Ready",
         "11": "2025-08-29 09:36:10",
         "12": "05d34642-18e2-468d-9100-c49a461d7bbd",
         "13": "347",
         "14": null,
         "15": "568",
         "index": 2,
         "key": 2
        },
        {
         "0": "m:1",
         "1": "Sales",
         "2": "order_id",
         "3": "Orders",
         "4": "order_id",
         "5": true,
         "6": "OneDirection",
         "7": "OneDirection",
         "8": "DateAndTime",
         "9": false,
         "10": "Ready",
         "11": "2025-08-29 09:36:10",
         "12": "AutoDetected_0e69875f-03ac-4d9e-a681-3c980d4f28b5",
         "13": "4468",
         "14": "4484",
         "15": "8944",
         "index": 3,
         "key": 3
        },
        {
         "0": "m:1",
         "1": "ItemsDB",
         "2": "vehicle make",
         "3": "hpeqhdmy_salesapp vehicles",
         "4": "Vehicle_Make",
         "5": true,
         "6": "OneDirection",
         "7": "OneDirection",
         "8": "DateAndTime",
         "9": false,
         "10": "Ready",
         "11": "2025-08-29 09:36:10",
         "12": "AutoDetected_918d3c44-3735-4faa-b8ae-53b2d688c38c",
         "13": "5",
         "14": "15",
         "15": "8",
         "index": 4,
         "key": 4
        },
        {
         "0": "m:1",
         "1": "Orders",
         "2": "customer",
         "3": "CustomersDB",
         "4": "customer name",
         "5": true,
         "6": "OneDirection",
         "7": "OneDirection",
         "8": "DateAndTime",
         "9": false,
         "10": "Ready",
         "11": "2025-08-29 09:36:10",
         "12": "AutoDetected_eaf5c82d-e227-4346-8c2d-c1cb2f59cfc8",
         "13": "90",
         "14": "106",
         "15": "88",
         "index": 5,
         "key": 5
        },
        {
         "0": "m:1",
         "1": "Sales",
         "2": "customer",
         "3": "CustomersDB",
         "4": "customer name",
         "5": false,
         "6": "OneDirection",
         "7": "OneDirection",
         "8": "DateAndTime",
         "9": false,
         "10": "Ready",
         "11": "2025-08-29 09:36:10",
         "12": "AutoDetected_593271a1-de90-4243-b859-ff57bccce8c1",
         "13": "91",
         "14": "106",
         "15": "88",
         "index": 6,
         "key": 6
        },
        {
         "0": "m:1",
         "1": "Payments",
         "2": "customer",
         "3": "CustomersDB",
         "4": "customer name",
         "5": true,
         "6": "OneDirection",
         "7": "OneDirection",
         "8": "DateAndTime",
         "9": false,
         "10": "Ready",
         "11": "2025-08-29 09:36:10",
         "12": "AutoDetected_5690e971-8fc1-408b-b384-202e691ff8ba",
         "13": "32",
         "14": "106",
         "15": "32",
         "index": 7,
         "key": 7
        },
        {
         "0": "m:1",
         "1": "Orders",
         "2": "date",
         "3": "Calendar",
         "4": "Date",
         "5": true,
         "6": "OneDirection",
         "7": "OneDirection",
         "8": "DateAndTime",
         "9": false,
         "10": "Ready",
         "11": "2025-08-29 09:36:10",
         "12": "6bedc6e7-e22b-dfc0-9d34-f930bd3956eb",
         "13": "1739",
         "14": "2557",
         "15": "2792",
         "index": 8,
         "key": 8
        }
       ],
       "schema": [
        {
         "key": "0",
         "name": "Multiplicity",
         "type": "string"
        },
        {
         "key": "1",
         "name": "From Table",
         "type": "string"
        },
        {
         "key": "2",
         "name": "From Column",
         "type": "string"
        },
        {
         "key": "3",
         "name": "To Table",
         "type": "string"
        },
        {
         "key": "4",
         "name": "To Column",
         "type": "string"
        },
        {
         "key": "5",
         "name": "Active",
         "type": "boolean"
        },
        {
         "key": "6",
         "name": "Cross Filtering Behavior",
         "type": "string"
        },
        {
         "key": "7",
         "name": "Security Filtering Behavior",
         "type": "string"
        },
        {
         "key": "8",
         "name": "Join On Date Behavior",
         "type": "string"
        },
        {
         "key": "9",
         "name": "Rely On Referential Integrity",
         "type": "boolean"
        },
        {
         "key": "10",
         "name": "State",
         "type": "string"
        },
        {
         "key": "11",
         "name": "Modified Time",
         "type": "timestamp"
        },
        {
         "key": "12",
         "name": "Relationship Name",
         "type": "string"
        },
        {
         "key": "13",
         "name": "Max From Cardinality",
         "type": "bigint"
        },
        {
         "key": "14",
         "name": "Max To Cardinality",
         "type": "bigint"
        },
        {
         "key": "15",
         "name": "Used Size",
         "type": "bigint"
        }
       ],
       "truncated": false
      },
      "wranglerEntryContext": {
       "dataframeType": "pandas"
      }
     },
     "type": "Synapse.DataFrame"
    }
   },
   "version": "0.1"
  }
 },
 "nbformat": 4,
 "nbformat_minor": 5
}
